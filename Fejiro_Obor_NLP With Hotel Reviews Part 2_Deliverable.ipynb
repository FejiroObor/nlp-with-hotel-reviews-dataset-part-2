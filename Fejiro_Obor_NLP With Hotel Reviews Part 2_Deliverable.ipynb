{
 "cells": [
  {
   "cell_type": "markdown",
   "id": "6d836fca",
   "metadata": {},
   "source": [
    "Author: Fejiro Obor"
   ]
  },
  {
   "cell_type": "markdown",
   "id": "27ccfd16",
   "metadata": {},
   "source": [
    "# NLP With Hotel Reviews - Part 2"
   ]
  },
  {
   "cell_type": "markdown",
   "id": "5f04d953",
   "metadata": {},
   "source": [
    "## Introduction"
   ]
  },
  {
   "cell_type": "markdown",
   "id": "81d8f564",
   "metadata": {},
   "source": [
    "This deliverable aims to build upon the previous NLP with Hotel Reviews submission where the Positive & Negative reviews were combined with the numeric features using Count Vectorizer. The new dataset used in this deliverable was provided by the BrainStation team and has been cleaned/preprocessed beforehand. The goal of this deliverable is to develop several machine learning models with the aim of correctly labelling the sentiment of the hotel reviews."
   ]
  },
  {
   "cell_type": "markdown",
   "id": "f8967cbd",
   "metadata": {},
   "source": [
    "### Data Dictionary\n",
    "\n",
    "##### Column Name:  Description\n",
    "\n",
    "_'Additional_Number_of_Scoring'_: Additional metric for measuring reviewer's hotel experience \n",
    "\n",
    "_'Average_Score'_: Average review score for each hotel\n",
    " \n",
    "_'Review_Total_Negative_Word_Counts'_: Total word count of each negative review\n",
    " \n",
    "_'Total_Number_of_Reviews'_: Total number of reviews left for each hotel\n",
    " \n",
    "_'Review_Total_Positive_Word_Counts'_: Total word count of each positive review\n",
    " \n",
    "_'Total_Number_of_Reviews_Reviewer_Has_Given'_: Total number of reviews a reviewer has left in the past\n",
    " \n",
    "_'Reviewer_Score'_: Reviewer's score of their hotel experience ranging from 2 - 10\n",
    " \n",
    "_'lat'_: Hotel Latitude\n",
    " \n",
    "_'lng'_: Hotel Longitude\n",
    " \n",
    "_'p__*'_: Dummy variables created from the individual words within the positive reviews\n",
    " \n",
    "_'n__*'_: Dummy variables created from the individual words within the negative reviews\n",
    " \n",
    "_'Hotel_Name__*'_: Dummy variables created from the individual Hotel Names\n",
    " \n",
    "_'rating'_: This is the target column which is either '0' or '1' representing if the review is good or bad"
   ]
  },
  {
   "cell_type": "code",
   "execution_count": 2,
   "id": "832c9e8d",
   "metadata": {},
   "outputs": [],
   "source": [
    "# Importing the required libraries\n",
    "import pandas as pd\n",
    "import numpy as np\n",
    "import timeit\n",
    "\n",
    "import matplotlib.pyplot as plt\n",
    "import seaborn as sns\n",
    "\n",
    "import statsmodels.api as sm\n",
    "from sklearn.model_selection import train_test_split\n",
    "from sklearn.preprocessing import StandardScaler\n",
    "from sklearn.decomposition import PCA\n",
    "\n",
    "from sklearn.linear_model import LogisticRegression\n",
    "from sklearn.neighbors import KNeighborsClassifier\n",
    "from sklearn.tree import DecisionTreeClassifier\n",
    "from sklearn.metrics import accuracy_score\n",
    "from sklearn.model_selection import cross_val_score\n",
    "from sklearn.metrics import confusion_matrix\n",
    "from sklearn.metrics import classification_report\n",
    "\n",
    "import warnings\n",
    "warnings.filterwarnings('ignore')"
   ]
  },
  {
   "cell_type": "code",
   "execution_count": 3,
   "id": "a69e81fb",
   "metadata": {},
   "outputs": [],
   "source": [
    "# read in the csv files\n",
    "train_data = pd.read_csv(\"clean_train_dataframe.csv\")\n",
    "test_data = pd.read_csv(\"clean_test_dataframe.csv\")"
   ]
  },
  {
   "cell_type": "code",
   "execution_count": 4,
   "id": "02cab7ab",
   "metadata": {},
   "outputs": [
    {
     "data": {
      "text/plain": [
       "(12798, 2744)"
      ]
     },
     "execution_count": 4,
     "metadata": {},
     "output_type": "execute_result"
    }
   ],
   "source": [
    "# dimensions of the train data\n",
    "train_data.shape"
   ]
  },
  {
   "cell_type": "code",
   "execution_count": 5,
   "id": "bf73cd44",
   "metadata": {},
   "outputs": [
    {
     "data": {
      "text/plain": [
       "(4267, 2744)"
      ]
     },
     "execution_count": 5,
     "metadata": {},
     "output_type": "execute_result"
    }
   ],
   "source": [
    "# dimensions of the test data\n",
    "test_data.shape"
   ]
  },
  {
   "cell_type": "code",
   "execution_count": 6,
   "id": "86627246",
   "metadata": {},
   "outputs": [
    {
     "data": {
      "text/plain": [
       "0.2500439496044536"
      ]
     },
     "execution_count": 6,
     "metadata": {},
     "output_type": "execute_result"
    }
   ],
   "source": [
    "len(test_data)/(len(train_data) + len(test_data))"
   ]
  },
  {
   "cell_type": "markdown",
   "id": "02932ddb",
   "metadata": {},
   "source": [
    "The two datasets provided have 2,744 columns with 12,798 and 4,267 rows respectively. The ratio of the train/test split is 75/25. We can take a quick look at the first few rows of the datasets:"
   ]
  },
  {
   "cell_type": "code",
   "execution_count": 7,
   "id": "5877bb73",
   "metadata": {},
   "outputs": [
    {
     "data": {
      "text/html": [
       "<div>\n",
       "<style scoped>\n",
       "    .dataframe tbody tr th:only-of-type {\n",
       "        vertical-align: middle;\n",
       "    }\n",
       "\n",
       "    .dataframe tbody tr th {\n",
       "        vertical-align: top;\n",
       "    }\n",
       "\n",
       "    .dataframe thead th {\n",
       "        text-align: right;\n",
       "    }\n",
       "</style>\n",
       "<table border=\"1\" class=\"dataframe\">\n",
       "  <thead>\n",
       "    <tr style=\"text-align: right;\">\n",
       "      <th></th>\n",
       "      <th>Additional_Number_of_Scoring</th>\n",
       "      <th>Average_Score</th>\n",
       "      <th>Review_Total_Negative_Word_Counts</th>\n",
       "      <th>Total_Number_of_Reviews</th>\n",
       "      <th>Review_Total_Positive_Word_Counts</th>\n",
       "      <th>Total_Number_of_Reviews_Reviewer_Has_Given</th>\n",
       "      <th>days_since_review</th>\n",
       "      <th>lat</th>\n",
       "      <th>lng</th>\n",
       "      <th>weekday_of_review</th>\n",
       "      <th>...</th>\n",
       "      <th>n_worry</th>\n",
       "      <th>n_worth</th>\n",
       "      <th>n_would</th>\n",
       "      <th>n_write</th>\n",
       "      <th>n_wrong</th>\n",
       "      <th>n_year</th>\n",
       "      <th>n_yes</th>\n",
       "      <th>n_yet</th>\n",
       "      <th>n_young</th>\n",
       "      <th>rating</th>\n",
       "    </tr>\n",
       "  </thead>\n",
       "  <tbody>\n",
       "    <tr>\n",
       "      <th>0</th>\n",
       "      <td>620</td>\n",
       "      <td>9.0</td>\n",
       "      <td>0</td>\n",
       "      <td>1974</td>\n",
       "      <td>164</td>\n",
       "      <td>1</td>\n",
       "      <td>562</td>\n",
       "      <td>51.506558</td>\n",
       "      <td>-0.004514</td>\n",
       "      <td>1</td>\n",
       "      <td>...</td>\n",
       "      <td>0</td>\n",
       "      <td>0</td>\n",
       "      <td>0</td>\n",
       "      <td>0</td>\n",
       "      <td>0</td>\n",
       "      <td>0</td>\n",
       "      <td>0</td>\n",
       "      <td>0</td>\n",
       "      <td>0</td>\n",
       "      <td>1</td>\n",
       "    </tr>\n",
       "    <tr>\n",
       "      <th>1</th>\n",
       "      <td>1258</td>\n",
       "      <td>9.4</td>\n",
       "      <td>6</td>\n",
       "      <td>4204</td>\n",
       "      <td>4</td>\n",
       "      <td>5</td>\n",
       "      <td>276</td>\n",
       "      <td>51.502435</td>\n",
       "      <td>-0.000250</td>\n",
       "      <td>0</td>\n",
       "      <td>...</td>\n",
       "      <td>0</td>\n",
       "      <td>0</td>\n",
       "      <td>0</td>\n",
       "      <td>0</td>\n",
       "      <td>0</td>\n",
       "      <td>0</td>\n",
       "      <td>0</td>\n",
       "      <td>0</td>\n",
       "      <td>0</td>\n",
       "      <td>1</td>\n",
       "    </tr>\n",
       "    <tr>\n",
       "      <th>2</th>\n",
       "      <td>995</td>\n",
       "      <td>8.1</td>\n",
       "      <td>2</td>\n",
       "      <td>3826</td>\n",
       "      <td>38</td>\n",
       "      <td>1</td>\n",
       "      <td>129</td>\n",
       "      <td>51.504348</td>\n",
       "      <td>-0.033444</td>\n",
       "      <td>0</td>\n",
       "      <td>...</td>\n",
       "      <td>0</td>\n",
       "      <td>0</td>\n",
       "      <td>0</td>\n",
       "      <td>0</td>\n",
       "      <td>0</td>\n",
       "      <td>0</td>\n",
       "      <td>0</td>\n",
       "      <td>0</td>\n",
       "      <td>0</td>\n",
       "      <td>1</td>\n",
       "    </tr>\n",
       "  </tbody>\n",
       "</table>\n",
       "<p>3 rows × 2744 columns</p>\n",
       "</div>"
      ],
      "text/plain": [
       "   Additional_Number_of_Scoring  Average_Score  \\\n",
       "0                           620            9.0   \n",
       "1                          1258            9.4   \n",
       "2                           995            8.1   \n",
       "\n",
       "   Review_Total_Negative_Word_Counts  Total_Number_of_Reviews  \\\n",
       "0                                  0                     1974   \n",
       "1                                  6                     4204   \n",
       "2                                  2                     3826   \n",
       "\n",
       "   Review_Total_Positive_Word_Counts  \\\n",
       "0                                164   \n",
       "1                                  4   \n",
       "2                                 38   \n",
       "\n",
       "   Total_Number_of_Reviews_Reviewer_Has_Given  days_since_review        lat  \\\n",
       "0                                           1                562  51.506558   \n",
       "1                                           5                276  51.502435   \n",
       "2                                           1                129  51.504348   \n",
       "\n",
       "        lng  weekday_of_review  ...  n_worry  n_worth  n_would  n_write  \\\n",
       "0 -0.004514                  1  ...        0        0        0        0   \n",
       "1 -0.000250                  0  ...        0        0        0        0   \n",
       "2 -0.033444                  0  ...        0        0        0        0   \n",
       "\n",
       "   n_wrong  n_year  n_yes  n_yet  n_young  rating  \n",
       "0        0       0      0      0        0       1  \n",
       "1        0       0      0      0        0       1  \n",
       "2        0       0      0      0        0       1  \n",
       "\n",
       "[3 rows x 2744 columns]"
      ]
     },
     "execution_count": 7,
     "metadata": {},
     "output_type": "execute_result"
    }
   ],
   "source": [
    "train_data.head(3)"
   ]
  },
  {
   "cell_type": "code",
   "execution_count": 8,
   "id": "07b5c436",
   "metadata": {},
   "outputs": [
    {
     "data": {
      "text/html": [
       "<div>\n",
       "<style scoped>\n",
       "    .dataframe tbody tr th:only-of-type {\n",
       "        vertical-align: middle;\n",
       "    }\n",
       "\n",
       "    .dataframe tbody tr th {\n",
       "        vertical-align: top;\n",
       "    }\n",
       "\n",
       "    .dataframe thead th {\n",
       "        text-align: right;\n",
       "    }\n",
       "</style>\n",
       "<table border=\"1\" class=\"dataframe\">\n",
       "  <thead>\n",
       "    <tr style=\"text-align: right;\">\n",
       "      <th></th>\n",
       "      <th>Additional_Number_of_Scoring</th>\n",
       "      <th>Average_Score</th>\n",
       "      <th>Review_Total_Negative_Word_Counts</th>\n",
       "      <th>Total_Number_of_Reviews</th>\n",
       "      <th>Review_Total_Positive_Word_Counts</th>\n",
       "      <th>Total_Number_of_Reviews_Reviewer_Has_Given</th>\n",
       "      <th>days_since_review</th>\n",
       "      <th>lat</th>\n",
       "      <th>lng</th>\n",
       "      <th>weekday_of_review</th>\n",
       "      <th>...</th>\n",
       "      <th>n_worry</th>\n",
       "      <th>n_worth</th>\n",
       "      <th>n_would</th>\n",
       "      <th>n_write</th>\n",
       "      <th>n_wrong</th>\n",
       "      <th>n_year</th>\n",
       "      <th>n_yes</th>\n",
       "      <th>n_yet</th>\n",
       "      <th>n_young</th>\n",
       "      <th>rating</th>\n",
       "    </tr>\n",
       "  </thead>\n",
       "  <tbody>\n",
       "    <tr>\n",
       "      <th>4264</th>\n",
       "      <td>581</td>\n",
       "      <td>8.4</td>\n",
       "      <td>16</td>\n",
       "      <td>1994</td>\n",
       "      <td>12</td>\n",
       "      <td>1</td>\n",
       "      <td>496</td>\n",
       "      <td>51.507894</td>\n",
       "      <td>-0.143671</td>\n",
       "      <td>4</td>\n",
       "      <td>...</td>\n",
       "      <td>0</td>\n",
       "      <td>0</td>\n",
       "      <td>0</td>\n",
       "      <td>0</td>\n",
       "      <td>0</td>\n",
       "      <td>0</td>\n",
       "      <td>0</td>\n",
       "      <td>0</td>\n",
       "      <td>0</td>\n",
       "      <td>1</td>\n",
       "    </tr>\n",
       "    <tr>\n",
       "      <th>4265</th>\n",
       "      <td>620</td>\n",
       "      <td>9.0</td>\n",
       "      <td>58</td>\n",
       "      <td>1974</td>\n",
       "      <td>24</td>\n",
       "      <td>11</td>\n",
       "      <td>131</td>\n",
       "      <td>51.506558</td>\n",
       "      <td>-0.004514</td>\n",
       "      <td>5</td>\n",
       "      <td>...</td>\n",
       "      <td>0</td>\n",
       "      <td>0</td>\n",
       "      <td>0</td>\n",
       "      <td>0</td>\n",
       "      <td>0</td>\n",
       "      <td>0</td>\n",
       "      <td>0</td>\n",
       "      <td>0</td>\n",
       "      <td>0</td>\n",
       "      <td>0</td>\n",
       "    </tr>\n",
       "    <tr>\n",
       "      <th>4266</th>\n",
       "      <td>744</td>\n",
       "      <td>8.3</td>\n",
       "      <td>7</td>\n",
       "      <td>2474</td>\n",
       "      <td>8</td>\n",
       "      <td>2</td>\n",
       "      <td>548</td>\n",
       "      <td>51.529142</td>\n",
       "      <td>-0.137278</td>\n",
       "      <td>1</td>\n",
       "      <td>...</td>\n",
       "      <td>0</td>\n",
       "      <td>0</td>\n",
       "      <td>0</td>\n",
       "      <td>0</td>\n",
       "      <td>0</td>\n",
       "      <td>0</td>\n",
       "      <td>0</td>\n",
       "      <td>0</td>\n",
       "      <td>0</td>\n",
       "      <td>1</td>\n",
       "    </tr>\n",
       "  </tbody>\n",
       "</table>\n",
       "<p>3 rows × 2744 columns</p>\n",
       "</div>"
      ],
      "text/plain": [
       "      Additional_Number_of_Scoring  Average_Score  \\\n",
       "4264                           581            8.4   \n",
       "4265                           620            9.0   \n",
       "4266                           744            8.3   \n",
       "\n",
       "      Review_Total_Negative_Word_Counts  Total_Number_of_Reviews  \\\n",
       "4264                                 16                     1994   \n",
       "4265                                 58                     1974   \n",
       "4266                                  7                     2474   \n",
       "\n",
       "      Review_Total_Positive_Word_Counts  \\\n",
       "4264                                 12   \n",
       "4265                                 24   \n",
       "4266                                  8   \n",
       "\n",
       "      Total_Number_of_Reviews_Reviewer_Has_Given  days_since_review  \\\n",
       "4264                                           1                496   \n",
       "4265                                          11                131   \n",
       "4266                                           2                548   \n",
       "\n",
       "            lat       lng  weekday_of_review  ...  n_worry  n_worth  n_would  \\\n",
       "4264  51.507894 -0.143671                  4  ...        0        0        0   \n",
       "4265  51.506558 -0.004514                  5  ...        0        0        0   \n",
       "4266  51.529142 -0.137278                  1  ...        0        0        0   \n",
       "\n",
       "      n_write  n_wrong  n_year  n_yes  n_yet  n_young  rating  \n",
       "4264        0        0       0      0      0        0       1  \n",
       "4265        0        0       0      0      0        0       0  \n",
       "4266        0        0       0      0      0        0       1  \n",
       "\n",
       "[3 rows x 2744 columns]"
      ]
     },
     "execution_count": 8,
     "metadata": {},
     "output_type": "execute_result"
    }
   ],
   "source": [
    "test_data.tail(3)"
   ]
  },
  {
   "cell_type": "markdown",
   "id": "672037c8",
   "metadata": {},
   "source": [
    "Confirming if there are any null or duplicate data remaining in the dataset:"
   ]
  },
  {
   "cell_type": "code",
   "execution_count": 8,
   "id": "af3c646c",
   "metadata": {},
   "outputs": [
    {
     "data": {
      "text/plain": [
       "0"
      ]
     },
     "execution_count": 8,
     "metadata": {},
     "output_type": "execute_result"
    }
   ],
   "source": [
    "train_data.isnull().sum().sum()"
   ]
  },
  {
   "cell_type": "code",
   "execution_count": 9,
   "id": "41f95c01",
   "metadata": {},
   "outputs": [
    {
     "data": {
      "text/plain": [
       "0"
      ]
     },
     "execution_count": 9,
     "metadata": {},
     "output_type": "execute_result"
    }
   ],
   "source": [
    "test_data.isnull().sum().sum()"
   ]
  },
  {
   "cell_type": "code",
   "execution_count": 10,
   "id": "c55663b2",
   "metadata": {},
   "outputs": [
    {
     "data": {
      "text/plain": [
       "0"
      ]
     },
     "execution_count": 10,
     "metadata": {},
     "output_type": "execute_result"
    }
   ],
   "source": [
    "len(train_data[train_data.duplicated()])"
   ]
  },
  {
   "cell_type": "code",
   "execution_count": 11,
   "id": "77995276",
   "metadata": {},
   "outputs": [
    {
     "data": {
      "text/plain": [
       "0"
      ]
     },
     "execution_count": 11,
     "metadata": {},
     "output_type": "execute_result"
    }
   ],
   "source": [
    "len(test_data[test_data.duplicated()])"
   ]
  },
  {
   "cell_type": "markdown",
   "id": "16559514",
   "metadata": {},
   "source": [
    "There are 0 rows of null or duplicate data within the datasets. Now that I have confirmed the datasets are clean, I can continue the modelling process."
   ]
  },
  {
   "cell_type": "code",
   "execution_count": 12,
   "id": "40701e68",
   "metadata": {},
   "outputs": [
    {
     "data": {
      "text/html": [
       "<div>\n",
       "<style scoped>\n",
       "    .dataframe tbody tr th:only-of-type {\n",
       "        vertical-align: middle;\n",
       "    }\n",
       "\n",
       "    .dataframe tbody tr th {\n",
       "        vertical-align: top;\n",
       "    }\n",
       "\n",
       "    .dataframe thead th {\n",
       "        text-align: right;\n",
       "    }\n",
       "</style>\n",
       "<table border=\"1\" class=\"dataframe\">\n",
       "  <thead>\n",
       "    <tr style=\"text-align: right;\">\n",
       "      <th></th>\n",
       "      <th>Additional_Number_of_Scoring</th>\n",
       "      <th>Average_Score</th>\n",
       "      <th>Review_Total_Negative_Word_Counts</th>\n",
       "      <th>Total_Number_of_Reviews</th>\n",
       "      <th>Review_Total_Positive_Word_Counts</th>\n",
       "      <th>Total_Number_of_Reviews_Reviewer_Has_Given</th>\n",
       "      <th>days_since_review</th>\n",
       "      <th>lat</th>\n",
       "      <th>lng</th>\n",
       "      <th>weekday_of_review</th>\n",
       "      <th>...</th>\n",
       "      <th>n_worry</th>\n",
       "      <th>n_worth</th>\n",
       "      <th>n_would</th>\n",
       "      <th>n_write</th>\n",
       "      <th>n_wrong</th>\n",
       "      <th>n_year</th>\n",
       "      <th>n_yes</th>\n",
       "      <th>n_yet</th>\n",
       "      <th>n_young</th>\n",
       "      <th>rating</th>\n",
       "    </tr>\n",
       "  </thead>\n",
       "  <tbody>\n",
       "    <tr>\n",
       "      <th>count</th>\n",
       "      <td>12798.000000</td>\n",
       "      <td>12798.000000</td>\n",
       "      <td>12798.000000</td>\n",
       "      <td>12798.000000</td>\n",
       "      <td>12798.000000</td>\n",
       "      <td>12798.000000</td>\n",
       "      <td>12798.000000</td>\n",
       "      <td>12798.000000</td>\n",
       "      <td>12798.000000</td>\n",
       "      <td>12798.000000</td>\n",
       "      <td>...</td>\n",
       "      <td>12798.000000</td>\n",
       "      <td>12798.000000</td>\n",
       "      <td>12798.000000</td>\n",
       "      <td>12798.000000</td>\n",
       "      <td>12798.000000</td>\n",
       "      <td>12798.000000</td>\n",
       "      <td>12798.000000</td>\n",
       "      <td>12798.000000</td>\n",
       "      <td>12798.000000</td>\n",
       "      <td>12798.000000</td>\n",
       "    </tr>\n",
       "    <tr>\n",
       "      <th>mean</th>\n",
       "      <td>741.061260</td>\n",
       "      <td>8.347750</td>\n",
       "      <td>19.291452</td>\n",
       "      <td>3021.224723</td>\n",
       "      <td>16.437647</td>\n",
       "      <td>5.082357</td>\n",
       "      <td>359.448742</td>\n",
       "      <td>51.511562</td>\n",
       "      <td>-0.134915</td>\n",
       "      <td>2.622050</td>\n",
       "      <td>...</td>\n",
       "      <td>0.001172</td>\n",
       "      <td>0.007345</td>\n",
       "      <td>0.075637</td>\n",
       "      <td>0.001641</td>\n",
       "      <td>0.005704</td>\n",
       "      <td>0.006095</td>\n",
       "      <td>0.001563</td>\n",
       "      <td>0.002422</td>\n",
       "      <td>0.001875</td>\n",
       "      <td>0.576106</td>\n",
       "    </tr>\n",
       "    <tr>\n",
       "      <th>std</th>\n",
       "      <td>601.768292</td>\n",
       "      <td>0.594369</td>\n",
       "      <td>30.523787</td>\n",
       "      <td>2407.720229</td>\n",
       "      <td>18.978319</td>\n",
       "      <td>8.046240</td>\n",
       "      <td>205.243217</td>\n",
       "      <td>0.018367</td>\n",
       "      <td>0.070260</td>\n",
       "      <td>2.108876</td>\n",
       "      <td>...</td>\n",
       "      <td>0.034217</td>\n",
       "      <td>0.088093</td>\n",
       "      <td>0.316115</td>\n",
       "      <td>0.045904</td>\n",
       "      <td>0.077360</td>\n",
       "      <td>0.082701</td>\n",
       "      <td>0.051521</td>\n",
       "      <td>0.050723</td>\n",
       "      <td>0.045036</td>\n",
       "      <td>0.494193</td>\n",
       "    </tr>\n",
       "    <tr>\n",
       "      <th>min</th>\n",
       "      <td>11.000000</td>\n",
       "      <td>6.400000</td>\n",
       "      <td>0.000000</td>\n",
       "      <td>49.000000</td>\n",
       "      <td>0.000000</td>\n",
       "      <td>1.000000</td>\n",
       "      <td>0.000000</td>\n",
       "      <td>51.420266</td>\n",
       "      <td>-0.369758</td>\n",
       "      <td>0.000000</td>\n",
       "      <td>...</td>\n",
       "      <td>0.000000</td>\n",
       "      <td>0.000000</td>\n",
       "      <td>0.000000</td>\n",
       "      <td>0.000000</td>\n",
       "      <td>0.000000</td>\n",
       "      <td>0.000000</td>\n",
       "      <td>0.000000</td>\n",
       "      <td>0.000000</td>\n",
       "      <td>0.000000</td>\n",
       "      <td>0.000000</td>\n",
       "    </tr>\n",
       "    <tr>\n",
       "      <th>25%</th>\n",
       "      <td>335.000000</td>\n",
       "      <td>8.000000</td>\n",
       "      <td>2.000000</td>\n",
       "      <td>1449.000000</td>\n",
       "      <td>5.000000</td>\n",
       "      <td>1.000000</td>\n",
       "      <td>182.000000</td>\n",
       "      <td>51.500961</td>\n",
       "      <td>-0.181389</td>\n",
       "      <td>1.000000</td>\n",
       "      <td>...</td>\n",
       "      <td>0.000000</td>\n",
       "      <td>0.000000</td>\n",
       "      <td>0.000000</td>\n",
       "      <td>0.000000</td>\n",
       "      <td>0.000000</td>\n",
       "      <td>0.000000</td>\n",
       "      <td>0.000000</td>\n",
       "      <td>0.000000</td>\n",
       "      <td>0.000000</td>\n",
       "      <td>0.000000</td>\n",
       "    </tr>\n",
       "    <tr>\n",
       "      <th>50%</th>\n",
       "      <td>531.000000</td>\n",
       "      <td>8.400000</td>\n",
       "      <td>10.000000</td>\n",
       "      <td>2312.000000</td>\n",
       "      <td>11.000000</td>\n",
       "      <td>2.000000</td>\n",
       "      <td>363.000000</td>\n",
       "      <td>51.510844</td>\n",
       "      <td>-0.136168</td>\n",
       "      <td>2.000000</td>\n",
       "      <td>...</td>\n",
       "      <td>0.000000</td>\n",
       "      <td>0.000000</td>\n",
       "      <td>0.000000</td>\n",
       "      <td>0.000000</td>\n",
       "      <td>0.000000</td>\n",
       "      <td>0.000000</td>\n",
       "      <td>0.000000</td>\n",
       "      <td>0.000000</td>\n",
       "      <td>0.000000</td>\n",
       "      <td>1.000000</td>\n",
       "    </tr>\n",
       "    <tr>\n",
       "      <th>75%</th>\n",
       "      <td>954.000000</td>\n",
       "      <td>8.800000</td>\n",
       "      <td>24.000000</td>\n",
       "      <td>3826.000000</td>\n",
       "      <td>21.000000</td>\n",
       "      <td>6.000000</td>\n",
       "      <td>532.000000</td>\n",
       "      <td>51.518856</td>\n",
       "      <td>-0.100472</td>\n",
       "      <td>5.000000</td>\n",
       "      <td>...</td>\n",
       "      <td>0.000000</td>\n",
       "      <td>0.000000</td>\n",
       "      <td>0.000000</td>\n",
       "      <td>0.000000</td>\n",
       "      <td>0.000000</td>\n",
       "      <td>0.000000</td>\n",
       "      <td>0.000000</td>\n",
       "      <td>0.000000</td>\n",
       "      <td>0.000000</td>\n",
       "      <td>1.000000</td>\n",
       "    </tr>\n",
       "    <tr>\n",
       "      <th>max</th>\n",
       "      <td>2682.000000</td>\n",
       "      <td>9.600000</td>\n",
       "      <td>403.000000</td>\n",
       "      <td>12158.000000</td>\n",
       "      <td>304.000000</td>\n",
       "      <td>173.000000</td>\n",
       "      <td>730.000000</td>\n",
       "      <td>51.606805</td>\n",
       "      <td>0.059042</td>\n",
       "      <td>6.000000</td>\n",
       "      <td>...</td>\n",
       "      <td>1.000000</td>\n",
       "      <td>2.000000</td>\n",
       "      <td>5.000000</td>\n",
       "      <td>3.000000</td>\n",
       "      <td>2.000000</td>\n",
       "      <td>2.000000</td>\n",
       "      <td>4.000000</td>\n",
       "      <td>2.000000</td>\n",
       "      <td>2.000000</td>\n",
       "      <td>1.000000</td>\n",
       "    </tr>\n",
       "  </tbody>\n",
       "</table>\n",
       "<p>8 rows × 2744 columns</p>\n",
       "</div>"
      ],
      "text/plain": [
       "       Additional_Number_of_Scoring  Average_Score  \\\n",
       "count                  12798.000000   12798.000000   \n",
       "mean                     741.061260       8.347750   \n",
       "std                      601.768292       0.594369   \n",
       "min                       11.000000       6.400000   \n",
       "25%                      335.000000       8.000000   \n",
       "50%                      531.000000       8.400000   \n",
       "75%                      954.000000       8.800000   \n",
       "max                     2682.000000       9.600000   \n",
       "\n",
       "       Review_Total_Negative_Word_Counts  Total_Number_of_Reviews  \\\n",
       "count                       12798.000000             12798.000000   \n",
       "mean                           19.291452              3021.224723   \n",
       "std                            30.523787              2407.720229   \n",
       "min                             0.000000                49.000000   \n",
       "25%                             2.000000              1449.000000   \n",
       "50%                            10.000000              2312.000000   \n",
       "75%                            24.000000              3826.000000   \n",
       "max                           403.000000             12158.000000   \n",
       "\n",
       "       Review_Total_Positive_Word_Counts  \\\n",
       "count                       12798.000000   \n",
       "mean                           16.437647   \n",
       "std                            18.978319   \n",
       "min                             0.000000   \n",
       "25%                             5.000000   \n",
       "50%                            11.000000   \n",
       "75%                            21.000000   \n",
       "max                           304.000000   \n",
       "\n",
       "       Total_Number_of_Reviews_Reviewer_Has_Given  days_since_review  \\\n",
       "count                                12798.000000       12798.000000   \n",
       "mean                                     5.082357         359.448742   \n",
       "std                                      8.046240         205.243217   \n",
       "min                                      1.000000           0.000000   \n",
       "25%                                      1.000000         182.000000   \n",
       "50%                                      2.000000         363.000000   \n",
       "75%                                      6.000000         532.000000   \n",
       "max                                    173.000000         730.000000   \n",
       "\n",
       "                lat           lng  weekday_of_review  ...       n_worry  \\\n",
       "count  12798.000000  12798.000000       12798.000000  ...  12798.000000   \n",
       "mean      51.511562     -0.134915           2.622050  ...      0.001172   \n",
       "std        0.018367      0.070260           2.108876  ...      0.034217   \n",
       "min       51.420266     -0.369758           0.000000  ...      0.000000   \n",
       "25%       51.500961     -0.181389           1.000000  ...      0.000000   \n",
       "50%       51.510844     -0.136168           2.000000  ...      0.000000   \n",
       "75%       51.518856     -0.100472           5.000000  ...      0.000000   \n",
       "max       51.606805      0.059042           6.000000  ...      1.000000   \n",
       "\n",
       "            n_worth       n_would       n_write       n_wrong        n_year  \\\n",
       "count  12798.000000  12798.000000  12798.000000  12798.000000  12798.000000   \n",
       "mean       0.007345      0.075637      0.001641      0.005704      0.006095   \n",
       "std        0.088093      0.316115      0.045904      0.077360      0.082701   \n",
       "min        0.000000      0.000000      0.000000      0.000000      0.000000   \n",
       "25%        0.000000      0.000000      0.000000      0.000000      0.000000   \n",
       "50%        0.000000      0.000000      0.000000      0.000000      0.000000   \n",
       "75%        0.000000      0.000000      0.000000      0.000000      0.000000   \n",
       "max        2.000000      5.000000      3.000000      2.000000      2.000000   \n",
       "\n",
       "              n_yes         n_yet       n_young        rating  \n",
       "count  12798.000000  12798.000000  12798.000000  12798.000000  \n",
       "mean       0.001563      0.002422      0.001875      0.576106  \n",
       "std        0.051521      0.050723      0.045036      0.494193  \n",
       "min        0.000000      0.000000      0.000000      0.000000  \n",
       "25%        0.000000      0.000000      0.000000      0.000000  \n",
       "50%        0.000000      0.000000      0.000000      1.000000  \n",
       "75%        0.000000      0.000000      0.000000      1.000000  \n",
       "max        4.000000      2.000000      2.000000      1.000000  \n",
       "\n",
       "[8 rows x 2744 columns]"
      ]
     },
     "execution_count": 12,
     "metadata": {},
     "output_type": "execute_result"
    }
   ],
   "source": [
    "train_data.describe()"
   ]
  },
  {
   "cell_type": "code",
   "execution_count": 13,
   "id": "b3c07bfb",
   "metadata": {},
   "outputs": [
    {
     "data": {
      "text/html": [
       "<div>\n",
       "<style scoped>\n",
       "    .dataframe tbody tr th:only-of-type {\n",
       "        vertical-align: middle;\n",
       "    }\n",
       "\n",
       "    .dataframe tbody tr th {\n",
       "        vertical-align: top;\n",
       "    }\n",
       "\n",
       "    .dataframe thead th {\n",
       "        text-align: right;\n",
       "    }\n",
       "</style>\n",
       "<table border=\"1\" class=\"dataframe\">\n",
       "  <thead>\n",
       "    <tr style=\"text-align: right;\">\n",
       "      <th></th>\n",
       "      <th>Additional_Number_of_Scoring</th>\n",
       "      <th>Average_Score</th>\n",
       "      <th>Review_Total_Negative_Word_Counts</th>\n",
       "      <th>Total_Number_of_Reviews</th>\n",
       "      <th>Review_Total_Positive_Word_Counts</th>\n",
       "      <th>Total_Number_of_Reviews_Reviewer_Has_Given</th>\n",
       "      <th>days_since_review</th>\n",
       "      <th>lat</th>\n",
       "      <th>lng</th>\n",
       "      <th>weekday_of_review</th>\n",
       "      <th>...</th>\n",
       "      <th>n_worry</th>\n",
       "      <th>n_worth</th>\n",
       "      <th>n_would</th>\n",
       "      <th>n_write</th>\n",
       "      <th>n_wrong</th>\n",
       "      <th>n_year</th>\n",
       "      <th>n_yes</th>\n",
       "      <th>n_yet</th>\n",
       "      <th>n_young</th>\n",
       "      <th>rating</th>\n",
       "    </tr>\n",
       "  </thead>\n",
       "  <tbody>\n",
       "    <tr>\n",
       "      <th>count</th>\n",
       "      <td>4267.000000</td>\n",
       "      <td>4267.000000</td>\n",
       "      <td>4267.000000</td>\n",
       "      <td>4267.000000</td>\n",
       "      <td>4267.000000</td>\n",
       "      <td>4267.000000</td>\n",
       "      <td>4267.000000</td>\n",
       "      <td>4267.000000</td>\n",
       "      <td>4267.000000</td>\n",
       "      <td>4267.000000</td>\n",
       "      <td>...</td>\n",
       "      <td>4267.000000</td>\n",
       "      <td>4267.000000</td>\n",
       "      <td>4267.000000</td>\n",
       "      <td>4267.000000</td>\n",
       "      <td>4267.000000</td>\n",
       "      <td>4267.000000</td>\n",
       "      <td>4267.000000</td>\n",
       "      <td>4267.000000</td>\n",
       "      <td>4267.000000</td>\n",
       "      <td>4267.000000</td>\n",
       "    </tr>\n",
       "    <tr>\n",
       "      <th>mean</th>\n",
       "      <td>746.518163</td>\n",
       "      <td>8.347082</td>\n",
       "      <td>19.422311</td>\n",
       "      <td>3032.284040</td>\n",
       "      <td>16.260136</td>\n",
       "      <td>4.919147</td>\n",
       "      <td>355.043356</td>\n",
       "      <td>51.511344</td>\n",
       "      <td>-0.134247</td>\n",
       "      <td>2.589407</td>\n",
       "      <td>...</td>\n",
       "      <td>0.000469</td>\n",
       "      <td>0.006093</td>\n",
       "      <td>0.072416</td>\n",
       "      <td>0.000703</td>\n",
       "      <td>0.004453</td>\n",
       "      <td>0.005625</td>\n",
       "      <td>0.001172</td>\n",
       "      <td>0.002578</td>\n",
       "      <td>0.002578</td>\n",
       "      <td>0.576049</td>\n",
       "    </tr>\n",
       "    <tr>\n",
       "      <th>std</th>\n",
       "      <td>609.426996</td>\n",
       "      <td>0.602030</td>\n",
       "      <td>29.274398</td>\n",
       "      <td>2424.732703</td>\n",
       "      <td>19.150631</td>\n",
       "      <td>7.685281</td>\n",
       "      <td>202.717054</td>\n",
       "      <td>0.018176</td>\n",
       "      <td>0.071819</td>\n",
       "      <td>2.095507</td>\n",
       "      <td>...</td>\n",
       "      <td>0.021647</td>\n",
       "      <td>0.077830</td>\n",
       "      <td>0.304915</td>\n",
       "      <td>0.026509</td>\n",
       "      <td>0.070020</td>\n",
       "      <td>0.083670</td>\n",
       "      <td>0.034215</td>\n",
       "      <td>0.055143</td>\n",
       "      <td>0.055143</td>\n",
       "      <td>0.494241</td>\n",
       "    </tr>\n",
       "    <tr>\n",
       "      <th>min</th>\n",
       "      <td>18.000000</td>\n",
       "      <td>6.400000</td>\n",
       "      <td>0.000000</td>\n",
       "      <td>59.000000</td>\n",
       "      <td>0.000000</td>\n",
       "      <td>1.000000</td>\n",
       "      <td>0.000000</td>\n",
       "      <td>51.420266</td>\n",
       "      <td>-0.369758</td>\n",
       "      <td>0.000000</td>\n",
       "      <td>...</td>\n",
       "      <td>0.000000</td>\n",
       "      <td>0.000000</td>\n",
       "      <td>0.000000</td>\n",
       "      <td>0.000000</td>\n",
       "      <td>0.000000</td>\n",
       "      <td>0.000000</td>\n",
       "      <td>0.000000</td>\n",
       "      <td>0.000000</td>\n",
       "      <td>0.000000</td>\n",
       "      <td>0.000000</td>\n",
       "    </tr>\n",
       "    <tr>\n",
       "      <th>25%</th>\n",
       "      <td>328.000000</td>\n",
       "      <td>8.000000</td>\n",
       "      <td>2.000000</td>\n",
       "      <td>1402.500000</td>\n",
       "      <td>5.000000</td>\n",
       "      <td>1.000000</td>\n",
       "      <td>185.000000</td>\n",
       "      <td>51.500961</td>\n",
       "      <td>-0.181389</td>\n",
       "      <td>1.000000</td>\n",
       "      <td>...</td>\n",
       "      <td>0.000000</td>\n",
       "      <td>0.000000</td>\n",
       "      <td>0.000000</td>\n",
       "      <td>0.000000</td>\n",
       "      <td>0.000000</td>\n",
       "      <td>0.000000</td>\n",
       "      <td>0.000000</td>\n",
       "      <td>0.000000</td>\n",
       "      <td>0.000000</td>\n",
       "      <td>0.000000</td>\n",
       "    </tr>\n",
       "    <tr>\n",
       "      <th>50%</th>\n",
       "      <td>541.000000</td>\n",
       "      <td>8.400000</td>\n",
       "      <td>10.000000</td>\n",
       "      <td>2312.000000</td>\n",
       "      <td>10.000000</td>\n",
       "      <td>2.000000</td>\n",
       "      <td>358.000000</td>\n",
       "      <td>51.510841</td>\n",
       "      <td>-0.136603</td>\n",
       "      <td>2.000000</td>\n",
       "      <td>...</td>\n",
       "      <td>0.000000</td>\n",
       "      <td>0.000000</td>\n",
       "      <td>0.000000</td>\n",
       "      <td>0.000000</td>\n",
       "      <td>0.000000</td>\n",
       "      <td>0.000000</td>\n",
       "      <td>0.000000</td>\n",
       "      <td>0.000000</td>\n",
       "      <td>0.000000</td>\n",
       "      <td>1.000000</td>\n",
       "    </tr>\n",
       "    <tr>\n",
       "      <th>75%</th>\n",
       "      <td>974.000000</td>\n",
       "      <td>8.800000</td>\n",
       "      <td>25.000000</td>\n",
       "      <td>3826.000000</td>\n",
       "      <td>21.000000</td>\n",
       "      <td>5.000000</td>\n",
       "      <td>527.000000</td>\n",
       "      <td>51.517972</td>\n",
       "      <td>-0.099716</td>\n",
       "      <td>4.000000</td>\n",
       "      <td>...</td>\n",
       "      <td>0.000000</td>\n",
       "      <td>0.000000</td>\n",
       "      <td>0.000000</td>\n",
       "      <td>0.000000</td>\n",
       "      <td>0.000000</td>\n",
       "      <td>0.000000</td>\n",
       "      <td>0.000000</td>\n",
       "      <td>0.000000</td>\n",
       "      <td>0.000000</td>\n",
       "      <td>1.000000</td>\n",
       "    </tr>\n",
       "    <tr>\n",
       "      <th>max</th>\n",
       "      <td>2682.000000</td>\n",
       "      <td>9.600000</td>\n",
       "      <td>359.000000</td>\n",
       "      <td>12158.000000</td>\n",
       "      <td>371.000000</td>\n",
       "      <td>92.000000</td>\n",
       "      <td>730.000000</td>\n",
       "      <td>51.606805</td>\n",
       "      <td>0.059042</td>\n",
       "      <td>6.000000</td>\n",
       "      <td>...</td>\n",
       "      <td>1.000000</td>\n",
       "      <td>1.000000</td>\n",
       "      <td>4.000000</td>\n",
       "      <td>1.000000</td>\n",
       "      <td>2.000000</td>\n",
       "      <td>2.000000</td>\n",
       "      <td>1.000000</td>\n",
       "      <td>2.000000</td>\n",
       "      <td>2.000000</td>\n",
       "      <td>1.000000</td>\n",
       "    </tr>\n",
       "  </tbody>\n",
       "</table>\n",
       "<p>8 rows × 2744 columns</p>\n",
       "</div>"
      ],
      "text/plain": [
       "       Additional_Number_of_Scoring  Average_Score  \\\n",
       "count                   4267.000000    4267.000000   \n",
       "mean                     746.518163       8.347082   \n",
       "std                      609.426996       0.602030   \n",
       "min                       18.000000       6.400000   \n",
       "25%                      328.000000       8.000000   \n",
       "50%                      541.000000       8.400000   \n",
       "75%                      974.000000       8.800000   \n",
       "max                     2682.000000       9.600000   \n",
       "\n",
       "       Review_Total_Negative_Word_Counts  Total_Number_of_Reviews  \\\n",
       "count                        4267.000000              4267.000000   \n",
       "mean                           19.422311              3032.284040   \n",
       "std                            29.274398              2424.732703   \n",
       "min                             0.000000                59.000000   \n",
       "25%                             2.000000              1402.500000   \n",
       "50%                            10.000000              2312.000000   \n",
       "75%                            25.000000              3826.000000   \n",
       "max                           359.000000             12158.000000   \n",
       "\n",
       "       Review_Total_Positive_Word_Counts  \\\n",
       "count                        4267.000000   \n",
       "mean                           16.260136   \n",
       "std                            19.150631   \n",
       "min                             0.000000   \n",
       "25%                             5.000000   \n",
       "50%                            10.000000   \n",
       "75%                            21.000000   \n",
       "max                           371.000000   \n",
       "\n",
       "       Total_Number_of_Reviews_Reviewer_Has_Given  days_since_review  \\\n",
       "count                                 4267.000000        4267.000000   \n",
       "mean                                     4.919147         355.043356   \n",
       "std                                      7.685281         202.717054   \n",
       "min                                      1.000000           0.000000   \n",
       "25%                                      1.000000         185.000000   \n",
       "50%                                      2.000000         358.000000   \n",
       "75%                                      5.000000         527.000000   \n",
       "max                                     92.000000         730.000000   \n",
       "\n",
       "               lat          lng  weekday_of_review  ...      n_worry  \\\n",
       "count  4267.000000  4267.000000        4267.000000  ...  4267.000000   \n",
       "mean     51.511344    -0.134247           2.589407  ...     0.000469   \n",
       "std       0.018176     0.071819           2.095507  ...     0.021647   \n",
       "min      51.420266    -0.369758           0.000000  ...     0.000000   \n",
       "25%      51.500961    -0.181389           1.000000  ...     0.000000   \n",
       "50%      51.510841    -0.136603           2.000000  ...     0.000000   \n",
       "75%      51.517972    -0.099716           4.000000  ...     0.000000   \n",
       "max      51.606805     0.059042           6.000000  ...     1.000000   \n",
       "\n",
       "           n_worth      n_would      n_write      n_wrong       n_year  \\\n",
       "count  4267.000000  4267.000000  4267.000000  4267.000000  4267.000000   \n",
       "mean      0.006093     0.072416     0.000703     0.004453     0.005625   \n",
       "std       0.077830     0.304915     0.026509     0.070020     0.083670   \n",
       "min       0.000000     0.000000     0.000000     0.000000     0.000000   \n",
       "25%       0.000000     0.000000     0.000000     0.000000     0.000000   \n",
       "50%       0.000000     0.000000     0.000000     0.000000     0.000000   \n",
       "75%       0.000000     0.000000     0.000000     0.000000     0.000000   \n",
       "max       1.000000     4.000000     1.000000     2.000000     2.000000   \n",
       "\n",
       "             n_yes        n_yet      n_young       rating  \n",
       "count  4267.000000  4267.000000  4267.000000  4267.000000  \n",
       "mean      0.001172     0.002578     0.002578     0.576049  \n",
       "std       0.034215     0.055143     0.055143     0.494241  \n",
       "min       0.000000     0.000000     0.000000     0.000000  \n",
       "25%       0.000000     0.000000     0.000000     0.000000  \n",
       "50%       0.000000     0.000000     0.000000     1.000000  \n",
       "75%       0.000000     0.000000     0.000000     1.000000  \n",
       "max       1.000000     2.000000     2.000000     1.000000  \n",
       "\n",
       "[8 rows x 2744 columns]"
      ]
     },
     "execution_count": 13,
     "metadata": {},
     "output_type": "execute_result"
    }
   ],
   "source": [
    "test_data.describe()"
   ]
  },
  {
   "cell_type": "markdown",
   "id": "2f54be77",
   "metadata": {},
   "source": [
    "From the descriptive statistics above, it can be seen that the scale of each of the features differ. The vectorized words and the target colum fall within the range of 0-1 while the other columns have much larger values. This will be an issue for distance-based algorithms like KNN, etc.\n",
    "\n",
    "The StandardScaler is commonly used to standardize or rescale features in a dataset. I will use it to transform the data so that each feature is on a similar scale.  By standardizing the features, each will have a mean of 0 and a standard deviation of 1. It will avoid dominance of certain features solely based on their scale and will allow the algorithms to give equal importance to each feature."
   ]
  },
  {
   "cell_type": "markdown",
   "id": "8093e71e",
   "metadata": {},
   "source": [
    "## Modeling"
   ]
  },
  {
   "cell_type": "code",
   "execution_count": 14,
   "id": "7b96159f",
   "metadata": {},
   "outputs": [],
   "source": [
    "# Define our X and y\n",
    "y_train = train_data['rating']\n",
    "y_test = test_data['rating']\n",
    "\n",
    "X_train = train_data.drop(columns = 'rating')\n",
    "X_test = test_data.drop(columns = 'rating')\n",
    "features_Names = X_train.columns"
   ]
  },
  {
   "cell_type": "code",
   "execution_count": 15,
   "id": "aa47a440",
   "metadata": {},
   "outputs": [
    {
     "data": {
      "text/plain": [
       "(12798, 2743)"
      ]
     },
     "execution_count": 15,
     "metadata": {},
     "output_type": "execute_result"
    }
   ],
   "source": [
    "X_train.shape"
   ]
  },
  {
   "cell_type": "code",
   "execution_count": 16,
   "id": "a0345e4d",
   "metadata": {},
   "outputs": [],
   "source": [
    "# Scaling the data\n",
    "scaler = StandardScaler()\n",
    "scaler.fit(X_train)\n",
    "X_train = scaler.transform(X_train)\n",
    "X_test = scaler.transform(X_test)"
   ]
  },
  {
   "cell_type": "markdown",
   "id": "a76d26ef",
   "metadata": {},
   "source": [
    "### Logistic Regression Model"
   ]
  },
  {
   "cell_type": "markdown",
   "id": "30e529ba",
   "metadata": {},
   "source": [
    "#### Q 1a. Employ a linear classifier on this dataset: Fit a logisitic regression model to this data with the solver set to 'lbfgs'. What is the accuracy score on the test set?"
   ]
  },
  {
   "cell_type": "code",
   "execution_count": 17,
   "id": "cceb447b",
   "metadata": {},
   "outputs": [
    {
     "name": "stdout",
     "output_type": "stream",
     "text": [
      "Train Score: 0.8860759493670886\n",
      "Test Score: 0.7328333723927818\n"
     ]
    }
   ],
   "source": [
    "logreg_model = LogisticRegression(solver='lbfgs')\n",
    "logreg_model.fit(X_train, y_train)\n",
    "\n",
    "#Scoring the Logistic Regression model\n",
    "print(f'Train Score: {logreg_model.score(X_train, y_train)}')\n",
    "print(f'Test Score: {logreg_model.score(X_test, y_test)}')"
   ]
  },
  {
   "cell_type": "markdown",
   "id": "561fc0c4",
   "metadata": {},
   "source": [
    "The baseline logistic regression model had an accuracy of 88.6% on the train dataset and 73.3% accuracy on the test dataset."
   ]
  },
  {
   "cell_type": "markdown",
   "id": "5772b2d1",
   "metadata": {},
   "source": [
    "#### Q 1b. What are the 20 words most predictive of a good review (from the positive review column)?   What are the 20 words most predictive with a bad review (from the negative review column)?  Use the regression coefficients to answer this question"
   ]
  },
  {
   "cell_type": "code",
   "execution_count": 70,
   "id": "898c56b5",
   "metadata": {},
   "outputs": [
    {
     "data": {
      "text/plain": [
       "array([[-0.02299382,  0.47988299,  0.28576254, ...,  0.12776648,\n",
       "        -0.0201696 ,  0.01179219]])"
      ]
     },
     "execution_count": 70,
     "metadata": {},
     "output_type": "execute_result"
    }
   ],
   "source": [
    "# looking at the coefficients from the LogisticRegression model above\n",
    "logreg_model.coef_"
   ]
  },
  {
   "cell_type": "code",
   "execution_count": 20,
   "id": "31118d99",
   "metadata": {},
   "outputs": [
    {
     "data": {
      "text/html": [
       "<div>\n",
       "<style scoped>\n",
       "    .dataframe tbody tr th:only-of-type {\n",
       "        vertical-align: middle;\n",
       "    }\n",
       "\n",
       "    .dataframe tbody tr th {\n",
       "        vertical-align: top;\n",
       "    }\n",
       "\n",
       "    .dataframe thead th {\n",
       "        text-align: right;\n",
       "    }\n",
       "</style>\n",
       "<table border=\"1\" class=\"dataframe\">\n",
       "  <thead>\n",
       "    <tr style=\"text-align: right;\">\n",
       "      <th></th>\n",
       "      <th>Features Names</th>\n",
       "      <th>Coefficients</th>\n",
       "    </tr>\n",
       "  </thead>\n",
       "  <tbody>\n",
       "    <tr>\n",
       "      <th>0</th>\n",
       "      <td>Additional_Number_of_Scoring</td>\n",
       "      <td>-0.022994</td>\n",
       "    </tr>\n",
       "    <tr>\n",
       "      <th>1</th>\n",
       "      <td>Average_Score</td>\n",
       "      <td>0.479883</td>\n",
       "    </tr>\n",
       "    <tr>\n",
       "      <th>2</th>\n",
       "      <td>Review_Total_Negative_Word_Counts</td>\n",
       "      <td>0.285763</td>\n",
       "    </tr>\n",
       "    <tr>\n",
       "      <th>3</th>\n",
       "      <td>Total_Number_of_Reviews</td>\n",
       "      <td>-0.034038</td>\n",
       "    </tr>\n",
       "    <tr>\n",
       "      <th>4</th>\n",
       "      <td>Review_Total_Positive_Word_Counts</td>\n",
       "      <td>-0.188445</td>\n",
       "    </tr>\n",
       "  </tbody>\n",
       "</table>\n",
       "</div>"
      ],
      "text/plain": [
       "                      Features Names  Coefficients\n",
       "0       Additional_Number_of_Scoring     -0.022994\n",
       "1                      Average_Score      0.479883\n",
       "2  Review_Total_Negative_Word_Counts      0.285763\n",
       "3            Total_Number_of_Reviews     -0.034038\n",
       "4  Review_Total_Positive_Word_Counts     -0.188445"
      ]
     },
     "execution_count": 20,
     "metadata": {},
     "output_type": "execute_result"
    }
   ],
   "source": [
    "# Create a dataframe of the coefficients and feature names\n",
    "feature_coeff = pd.DataFrame(features_Names, columns=['Features Names'])\n",
    "feature_coeff['Coefficients'] = pd.DataFrame(logreg_model.coef_).transpose()[0]\n",
    "feature_coeff.head(5)\n"
   ]
  },
  {
   "cell_type": "code",
   "execution_count": 21,
   "id": "d0ada345",
   "metadata": {},
   "outputs": [
    {
     "data": {
      "text/html": [
       "<div>\n",
       "<style scoped>\n",
       "    .dataframe tbody tr th:only-of-type {\n",
       "        vertical-align: middle;\n",
       "    }\n",
       "\n",
       "    .dataframe tbody tr th {\n",
       "        vertical-align: top;\n",
       "    }\n",
       "\n",
       "    .dataframe thead th {\n",
       "        text-align: right;\n",
       "    }\n",
       "</style>\n",
       "<table border=\"1\" class=\"dataframe\">\n",
       "  <thead>\n",
       "    <tr style=\"text-align: right;\">\n",
       "      <th></th>\n",
       "      <th>Features Names</th>\n",
       "      <th>Coefficients</th>\n",
       "    </tr>\n",
       "  </thead>\n",
       "  <tbody>\n",
       "    <tr>\n",
       "      <th>812</th>\n",
       "      <td>p_gift</td>\n",
       "      <td>0.541586</td>\n",
       "    </tr>\n",
       "    <tr>\n",
       "      <th>733</th>\n",
       "      <td>p_excellent</td>\n",
       "      <td>0.517700</td>\n",
       "    </tr>\n",
       "    <tr>\n",
       "      <th>880</th>\n",
       "      <td>p_incredible</td>\n",
       "      <td>0.451323</td>\n",
       "    </tr>\n",
       "    <tr>\n",
       "      <th>731</th>\n",
       "      <td>p_exceed</td>\n",
       "      <td>0.416770</td>\n",
       "    </tr>\n",
       "    <tr>\n",
       "      <th>874</th>\n",
       "      <td>p_impeccable</td>\n",
       "      <td>0.404089</td>\n",
       "    </tr>\n",
       "  </tbody>\n",
       "</table>\n",
       "</div>"
      ],
      "text/plain": [
       "    Features Names  Coefficients\n",
       "812         p_gift      0.541586\n",
       "733    p_excellent      0.517700\n",
       "880   p_incredible      0.451323\n",
       "731       p_exceed      0.416770\n",
       "874   p_impeccable      0.404089"
      ]
     },
     "execution_count": 21,
     "metadata": {},
     "output_type": "execute_result"
    }
   ],
   "source": [
    "# Extract top 20 predictive features beginning with p_\n",
    "top_20_pos_features = feature_coeff[feature_coeff['Features Names'].str.startswith('p_')].sort_values('Coefficients',\\\n",
    "                                                                                ascending=False).head(20)\n",
    "top_20_pos_features.head(5)"
   ]
  },
  {
   "cell_type": "code",
   "execution_count": 22,
   "id": "db407614",
   "metadata": {},
   "outputs": [
    {
     "data": {
      "text/html": [
       "<div>\n",
       "<style scoped>\n",
       "    .dataframe tbody tr th:only-of-type {\n",
       "        vertical-align: middle;\n",
       "    }\n",
       "\n",
       "    .dataframe tbody tr th {\n",
       "        vertical-align: top;\n",
       "    }\n",
       "\n",
       "    .dataframe thead th {\n",
       "        text-align: right;\n",
       "    }\n",
       "</style>\n",
       "<table border=\"1\" class=\"dataframe\">\n",
       "  <thead>\n",
       "    <tr style=\"text-align: right;\">\n",
       "      <th></th>\n",
       "      <th>Features Names</th>\n",
       "      <th>Coefficients</th>\n",
       "    </tr>\n",
       "  </thead>\n",
       "  <tbody>\n",
       "    <tr>\n",
       "      <th>2310</th>\n",
       "      <td>n_premier</td>\n",
       "      <td>-0.802297</td>\n",
       "    </tr>\n",
       "    <tr>\n",
       "      <th>2167</th>\n",
       "      <td>n_moment</td>\n",
       "      <td>-0.744598</td>\n",
       "    </tr>\n",
       "    <tr>\n",
       "      <th>2729</th>\n",
       "      <td>n_wood</td>\n",
       "      <td>-0.577219</td>\n",
       "    </tr>\n",
       "    <tr>\n",
       "      <th>1691</th>\n",
       "      <td>n_confirmation</td>\n",
       "      <td>-0.525449</td>\n",
       "    </tr>\n",
       "    <tr>\n",
       "      <th>2539</th>\n",
       "      <td>n_star</td>\n",
       "      <td>-0.513716</td>\n",
       "    </tr>\n",
       "  </tbody>\n",
       "</table>\n",
       "</div>"
      ],
      "text/plain": [
       "      Features Names  Coefficients\n",
       "2310       n_premier     -0.802297\n",
       "2167        n_moment     -0.744598\n",
       "2729          n_wood     -0.577219\n",
       "1691  n_confirmation     -0.525449\n",
       "2539          n_star     -0.513716"
      ]
     },
     "execution_count": 22,
     "metadata": {},
     "output_type": "execute_result"
    }
   ],
   "source": [
    "# Extract top 20 predictive features beginning with n_\n",
    "top_20_neg_features = feature_coeff[feature_coeff['Features Names'].str.startswith('n_')].sort_values('Coefficients',\\\n",
    "                                                                                ascending=True).head(20)\n",
    "top_20_neg_features.head(5)"
   ]
  },
  {
   "cell_type": "code",
   "execution_count": 23,
   "id": "1f14e50e",
   "metadata": {},
   "outputs": [
    {
     "data": {
      "image/png": "[encoded data removed]",
      "text/plain": [
       "<Figure size 720x576 with 1 Axes>"
      ]
     },
     "metadata": {
      "needs_background": "light"
     },
     "output_type": "display_data"
    }
   ],
   "source": [
    "# plotting the top 20 positive words most predictive of a good review\n",
    "plt.figure(figsize=(10, 8))\n",
    "sns.barplot(x='Coefficients', y='Features Names', data=top_20_pos_features, palette='Greens')\n",
    "plt.title('Top 20 Positive Words Most Predictive of a Good Review')\n",
    "plt.show()"
   ]
  },
  {
   "cell_type": "markdown",
   "id": "1ad0023c",
   "metadata": {},
   "source": [
    "The plot above showcases the top 20 positive words most indicative of a good review based on the coefficients obtained from fitting the baseline Logistic Regression Model above. From the first plot, we can see that the odds of a review being good are increased if the review contains words such as 'Gift', 'Excellent', 'Incredible', 'Exceed', etc."
   ]
  },
  {
   "cell_type": "code",
   "execution_count": 24,
   "id": "83365920",
   "metadata": {},
   "outputs": [
    {
     "data": {
      "image/png": "[encoded data removed]",
      "text/plain": [
       "<Figure size 720x576 with 1 Axes>"
      ]
     },
     "metadata": {
      "needs_background": "light"
     },
     "output_type": "display_data"
    }
   ],
   "source": [
    "# plotting the top 20 negative words most predictive of a bad review\n",
    "plt.figure(figsize=(10, 8))\n",
    "sns.barplot(x='Coefficients', y='Features Names', data=top_20_neg_features, palette='Reds')\n",
    "plt.title('Top 20 Negative Words Most Predictive of a Bad Review')\n",
    "plt.show()"
   ]
  },
  {
   "cell_type": "markdown",
   "id": "fe66956f",
   "metadata": {},
   "source": [
    "Conversely, the plot above showcases the top 20 negative words most indicative of a bad review. We can see that the odds of a review being bad are increased if the negative review contains words such as 'Dusty', 'Smelt', 'Rude', etc."
   ]
  },
  {
   "cell_type": "markdown",
   "id": "1d92148f",
   "metadata": {},
   "source": [
    "#### Q 1c. Reduce the dimensionality of the dataset using PCA, what is the relationship between the number of dimensions and run-time for a logistic regression?"
   ]
  },
  {
   "cell_type": "markdown",
   "id": "8fc6bc23",
   "metadata": {},
   "source": [
    "Firstly, fitting the PCA object and using it to transform the train & test datasets:"
   ]
  },
  {
   "cell_type": "code",
   "execution_count": 25,
   "id": "2277e215",
   "metadata": {},
   "outputs": [],
   "source": [
    "# Instantiating & fitting the PCA model to the X_train and generating the same number of PCs as the dataset's features \n",
    "reviews_PCA = PCA()\n",
    "reviews_PCA.fit(X_train)\n",
    "\n",
    "# transform data \n",
    "X_train_PCA = reviews_PCA.transform(X_train)\n",
    "X_test_PCA = reviews_PCA.transform(X_test)"
   ]
  },
  {
   "cell_type": "markdown",
   "id": "bc1c905f",
   "metadata": {},
   "source": [
    "Next, we can make a line plot below to explore how each Principal component contributes to the explained variance ratios"
   ]
  },
  {
   "cell_type": "code",
   "execution_count": 26,
   "id": "c6cf70ae",
   "metadata": {},
   "outputs": [
    {
     "data": {
      "text/plain": [
       "array([7.63785922e-03, 4.72719774e-03, 2.18023902e-03, ...,\n",
       "       1.12967864e-35, 7.29269371e-36, 1.95138780e-36])"
      ]
     },
     "execution_count": 26,
     "metadata": {},
     "output_type": "execute_result"
    }
   ],
   "source": [
    "expl_variance = reviews_PCA.explained_variance_ratio_\n",
    "expl_variance"
   ]
  },
  {
   "cell_type": "code",
   "execution_count": 27,
   "id": "1a239a70",
   "metadata": {},
   "outputs": [
    {
     "data": {
      "image/png": "[encoded data removed]",
      "text/plain": [
       "<Figure size 1152x576 with 1 Axes>"
      ]
     },
     "metadata": {
      "needs_background": "light"
     },
     "output_type": "display_data"
    }
   ],
   "source": [
    "plt.figure(figsize = (16,8))\n",
    "plt.plot(range(1, 21, 1), expl_variance[:20],marker='.')\n",
    "plt.xlabel('Number of PCs')\n",
    "plt.ylabel('Proportion of Variance Explained')\n",
    "plt.xticks(range(1,21,1))\n",
    "plt.show()"
   ]
  },
  {
   "cell_type": "markdown",
   "id": "89850f16",
   "metadata": {},
   "source": [
    "From the elbow/scree plot shown above, we can see that the explained variance ratio is quite low for each of the individual Principal Components shown. For instance, only 0.7% of the variation in the data is seen in the direction of the first PC.\n",
    "\n",
    "Although the plot forms an 'elbow' around 3 to 6 Principal Components and the amount of additional variance provided by subsequent PCs becomes very small, we can also see that we need far more than 6 PC's to capture a sufficient amount of variance from the original dataset."
   ]
  },
  {
   "cell_type": "code",
   "execution_count": 28,
   "id": "1bdb2386",
   "metadata": {},
   "outputs": [
    {
     "data": {
      "text/plain": [
       "array([0.00763786, 0.01236506, 0.0145453 , ..., 1.        , 1.        ,\n",
       "       1.        ])"
      ]
     },
     "execution_count": 28,
     "metadata": {},
     "output_type": "execute_result"
    }
   ],
   "source": [
    "# Checking how much of the variance in our dataset is captured by the principal components by taking a \n",
    "# cumulative sum of the explained variance ratios\n",
    "\n",
    "expl_variance = reviews_PCA.explained_variance_ratio_\n",
    "\n",
    "cumulative_sum = np.cumsum(expl_variance)\n",
    "cumulative_sum"
   ]
  },
  {
   "cell_type": "code",
   "execution_count": 29,
   "id": "1a1e31b1",
   "metadata": {},
   "outputs": [
    {
     "data": {
      "image/png": "[encoded data removed]",
      "text/plain": [
       "<Figure size 720x360 with 1 Axes>"
      ]
     },
     "metadata": {
      "needs_background": "light"
     },
     "output_type": "display_data"
    }
   ],
   "source": [
    "# Visualizing the cumulative sum on a plot\n",
    "\n",
    "plt.figure(figsize = (10,5))\n",
    "plt.plot(range(1, 2501, 1), cumulative_sum[:2500], marker='.')\n",
    "plt.axhline(0.9, c='r', linestyle='--')\n",
    "plt.axhline(0.5, c='k', linestyle='--')\n",
    "plt.xlabel('Number of PCs')\n",
    "plt.ylabel('Cumulative Sum of Explained Variance')\n",
    "plt.yticks(np.arange(0.0, 1.0, 0.1))\n",
    "plt.show()"
   ]
  },
  {
   "cell_type": "markdown",
   "id": "d50295c9",
   "metadata": {},
   "source": [
    "It is expected that the run-time for logistic regressions will increase depending on the number of dimensions we decide to keep in the dataset due to the increased computations and memory required."
   ]
  },
  {
   "cell_type": "code",
   "execution_count": 30,
   "id": "f6e2daa9",
   "metadata": {},
   "outputs": [
    {
     "data": {
      "text/plain": [
       "(12798, 655)"
      ]
     },
     "execution_count": 30,
     "metadata": {},
     "output_type": "execute_result"
    }
   ],
   "source": [
    "# Proceeding by keeping keeping 50% of the variance\n",
    "reviews_PCA = PCA(n_components = 0.5)\n",
    "reviews_PCA.fit(X_train)\n",
    "\n",
    "# Transform train and test\n",
    "X_train_PCA = reviews_PCA.transform(X_train)\n",
    "X_test_PCA = reviews_PCA.transform(X_test)\n",
    "X_train_PCA.shape"
   ]
  },
  {
   "cell_type": "code",
   "execution_count": 31,
   "id": "3229a90e",
   "metadata": {},
   "outputs": [
    {
     "name": "stdout",
     "output_type": "stream",
     "text": [
      "73.1 ms ± 1.01 ms per loop (mean ± std. dev. of 7 runs, 10 loops each)\n"
     ]
    }
   ],
   "source": [
    "%%timeit\n",
    "logreg_model_PCA = LogisticRegression(solver='lbfgs')\n",
    "logreg_model_PCA.fit(X_train_PCA, y_train)"
   ]
  },
  {
   "cell_type": "markdown",
   "id": "79da76d6",
   "metadata": {},
   "source": [
    "If we decided to keep 50% of the variance of the original dataset, the number of features reduces from 2743 to 655 principal components. The run-time to fit the Logistic Regression as seen above was 73.1 milliseconds.\n",
    "\n",
    "On the other hand, if we decided to keep 90% of the variance of the original dataset, the run-time would be:"
   ]
  },
  {
   "cell_type": "code",
   "execution_count": 32,
   "id": "47f79cb5",
   "metadata": {},
   "outputs": [
    {
     "data": {
      "text/plain": [
       "(12798, 1891)"
      ]
     },
     "execution_count": 32,
     "metadata": {},
     "output_type": "execute_result"
    }
   ],
   "source": [
    "# Keeping 90% of the variance\n",
    "reviews_PCA = PCA(n_components = 0.9)\n",
    "reviews_PCA.fit(X_train)\n",
    "\n",
    "# Transform train and test\n",
    "X_train_PCA = reviews_PCA.transform(X_train)\n",
    "X_test_PCA = reviews_PCA.transform(X_test)\n",
    "X_train_PCA.shape"
   ]
  },
  {
   "cell_type": "code",
   "execution_count": 33,
   "id": "3800e95d",
   "metadata": {},
   "outputs": [
    {
     "name": "stdout",
     "output_type": "stream",
     "text": [
      "771 ms ± 2.05 ms per loop (mean ± std. dev. of 7 runs, 1 loop each)\n"
     ]
    }
   ],
   "source": [
    "%%timeit\n",
    "logreg_model_PCA = LogisticRegression(solver='lbfgs')\n",
    "logreg_model_PCA.fit(X_train_PCA, y_train)"
   ]
  },
  {
   "cell_type": "code",
   "execution_count": 66,
   "id": "e297535b",
   "metadata": {},
   "outputs": [
    {
     "data": {
      "text/plain": [
       "954.7195622435021"
      ]
     },
     "execution_count": 66,
     "metadata": {},
     "output_type": "execute_result"
    }
   ],
   "source": [
    "((771-73.1)/73.1)*100"
   ]
  },
  {
   "cell_type": "markdown",
   "id": "93d8e33a",
   "metadata": {},
   "source": [
    "As seen above, the run-time increased to 771 milliseconds as we increased the dimensions from 655 PC's to 1891 PC's. At the expense of preserving more of the original dataset's varaince, we increased the run time by 955%. As expected, the run-time increases as the dataset's dimensions increase."
   ]
  },
  {
   "cell_type": "markdown",
   "id": "5e17f287",
   "metadata": {},
   "source": [
    "#### Q 1d. List one advantage and one disadvantage of dimensionality reduction"
   ]
  },
  {
   "cell_type": "markdown",
   "id": "06b2f8a8",
   "metadata": {},
   "source": [
    "An advantage of dimensionality reduction is:\n",
    "- the improved computational efficiency when fitting the model. The training time and memory requirements required will be reduced for a smaller number of features.\n",
    "\n",
    "A disadvantage of dimensionality reduction is:\n",
    "- we are potentially losing important information by reducing the dimensionality of the dataset. This can lead to problems when the model is exposed to new data. By looking at the cumulative sum of the explained variance ratios, we can ensure the model training still captures most of the variance within the original dataset."
   ]
  },
  {
   "cell_type": "markdown",
   "id": "80adeeba",
   "metadata": {},
   "source": [
    "### K-Nearest Neighbour Model"
   ]
  },
  {
   "cell_type": "markdown",
   "id": "f764030e",
   "metadata": {},
   "source": [
    "#### Q2.a Employ a K-Nearest Neighbour classifier on this dataset:\n",
    "\n",
    "#### Fit a KNN model to this data. What is the accuracy score on the test set?"
   ]
  },
  {
   "cell_type": "code",
   "execution_count": 34,
   "id": "baec1739",
   "metadata": {},
   "outputs": [
    {
     "name": "stdout",
     "output_type": "stream",
     "text": [
      "Number of neighbors: 5\n",
      "Train accuracy: 0.751211126738553\n",
      "Test accuracy: 0.6367471291305367\n"
     ]
    }
   ],
   "source": [
    "# Instantiate & fit the model\n",
    "\n",
    "KNN_model = KNeighborsClassifier()\n",
    "KNN_model.fit(X_train, y_train)\n",
    "\n",
    "# Score the model\n",
    "print(\"Number of neighbors:\", KNN_model.n_neighbors)\n",
    "print(\"Train accuracy:\", KNN_model.score(X_train, y_train))\n",
    "print(\"Test accuracy:\", KNN_model.score(X_test, y_test))"
   ]
  },
  {
   "cell_type": "markdown",
   "id": "5786fbf3",
   "metadata": {},
   "source": [
    "Using a baseline KNN classifier with 5 number of neighbours, the model achieved 75.1% accuracy on the train dataset. On the other hand, it scored lower on the test dataset with an accuracy of 63.7%."
   ]
  },
  {
   "cell_type": "markdown",
   "id": "0fac8ddb",
   "metadata": {},
   "source": [
    "#### Q2.b KNN is a computationally expensive model. Reduce the number of observations (data points) in the dataset. What is the relationship between the number of observations and run-time for KNN?"
   ]
  },
  {
   "cell_type": "code",
   "execution_count": 35,
   "id": "d41b3dee",
   "metadata": {},
   "outputs": [
    {
     "name": "stdout",
     "output_type": "stream",
     "text": [
      "6.61 ms ± 53.7 µs per loop (mean ± std. dev. of 7 runs, 100 loops each)\n"
     ]
    }
   ],
   "source": [
    "%%timeit\n",
    "KNN_model = KNeighborsClassifier()\n",
    "KNN_model.fit(X_train, y_train)"
   ]
  },
  {
   "cell_type": "code",
   "execution_count": 36,
   "id": "4e4acc29",
   "metadata": {},
   "outputs": [],
   "source": [
    "run_time = []\n",
    "no_observations = []\n",
    "\n",
    "# get the run time to fit a KNN model for different no. of observations by keeping within 1-100% of the entire dataset\n",
    "for i in range(1, 100, 4):\n",
    "    n = int(len(X_train) * (i/100))\n",
    "    t = timeit.timeit(lambda: KNeighborsClassifier().fit(X_train[:n], y_train[:n]), number = 1)\n",
    "    run_time.append(t)\n",
    "    no_observations.append(n)\n",
    "#     print(n)\n",
    "#     print(t)"
   ]
  },
  {
   "cell_type": "code",
   "execution_count": 37,
   "id": "4424e5eb",
   "metadata": {},
   "outputs": [
    {
     "data": {
      "image/png": "[encoded data removed]",
      "text/plain": [
       "<Figure size 1008x576 with 1 Axes>"
      ]
     },
     "metadata": {
      "needs_background": "light"
     },
     "output_type": "display_data"
    }
   ],
   "source": [
    "# plotting the % of the observations vs the time it takes to fit the KNN model\n",
    "plt.figure(figsize=(14, 8))\n",
    "plt.plot(no_observations, run_time)\n",
    "plt.title('Runtime to Fit the KNN Model vs Number of Observations Used')\n",
    "plt.ylabel('Time (seconds)')\n",
    "plt.xlabel('Number of Observations')\n",
    "plt.show()"
   ]
  },
  {
   "cell_type": "markdown",
   "id": "860f71ca",
   "metadata": {},
   "source": [
    "- From the plot above, it can be seen that the number of seconds required to fit the KNN model increases as the number of observations in our dataset increases. This is expected given that the number of computations required by the KNN model increases as we increase the total number of data points to compare against in finding the nearest neighbour."
   ]
  },
  {
   "cell_type": "markdown",
   "id": "5c4f5b87",
   "metadata": {},
   "source": [
    "#### Q2.c List one advantage and one disadvantage of reducing the number of observations."
   ]
  },
  {
   "cell_type": "markdown",
   "id": "0955926f",
   "metadata": {},
   "source": [
    "- An advantage of reducing the number of observations before fitting a KNN is that the computational costs decreases. This is vital for large datasets especially, since the number of distance calculations and comparisons required to make each prediction reduces."
   ]
  },
  {
   "cell_type": "markdown",
   "id": "0466bc9d",
   "metadata": {},
   "source": [
    "- On the other hand, by reducing the number of observations, we could be losing some relevant information that would otherwise have been used to train the model. Excluding some datapoints means we may not be capturing the model's full variance and complexity. "
   ]
  },
  {
   "cell_type": "markdown",
   "id": "a28a69ae",
   "metadata": {},
   "source": [
    "#### Q2.d Use the dataset to find an optimal value for K in the KNN algorithm. You will need to split your dataset into train and validation sets."
   ]
  },
  {
   "cell_type": "code",
   "execution_count": 38,
   "id": "2f56afc8",
   "metadata": {},
   "outputs": [],
   "source": [
    "# Splitting the train set further into train/validation set using a 70:30 split\n",
    "X_train_set, X_validation_set, y_train_set, y_validation_set = \\\n",
    "    train_test_split(X_train, y_train, test_size = 0.3,\n",
    "                     random_state=1, stratify=y_train)"
   ]
  },
  {
   "cell_type": "code",
   "execution_count": 39,
   "id": "5a39b545",
   "metadata": {},
   "outputs": [
    {
     "data": {
      "text/plain": [
       "(8958, 2743)"
      ]
     },
     "execution_count": 39,
     "metadata": {},
     "output_type": "execute_result"
    }
   ],
   "source": [
    "X_train_set.shape"
   ]
  },
  {
   "cell_type": "markdown",
   "id": "04ee9450",
   "metadata": {},
   "source": [
    "For varying number of neighbours between 1 to 100, we can look at the KNN model's accuracy on the train and validation sets as shown below:"
   ]
  },
  {
   "cell_type": "code",
   "execution_count": 41,
   "id": "a74cc6e4",
   "metadata": {},
   "outputs": [],
   "source": [
    "n_values = np.arange(1, 100, 2)\n",
    "train_scores = []\n",
    "validation_scores = []\n",
    "\n",
    "# for varying number of neighbours between 1 - 100\n",
    "for n in n_values:  \n",
    "    KNN_model = KNeighborsClassifier(n_neighbors = n)\n",
    "    KNN_model.fit(X_train_set, y_train_set)\n",
    "    \n",
    "    # Scoring the models\n",
    "    train_scores.append(KNN_model.score(X_train_set, y_train_set))\n",
    "    validation_scores.append(KNN_model.score(X_validation_set, y_validation_set))\n",
    " "
   ]
  },
  {
   "cell_type": "code",
   "execution_count": 42,
   "id": "1aa48ff9",
   "metadata": {},
   "outputs": [
    {
     "data": {
      "image/png": "[encoded data removed]",
      "text/plain": [
       "<Figure size 1152x576 with 1 Axes>"
      ]
     },
     "metadata": {
      "needs_background": "light"
     },
     "output_type": "display_data"
    }
   ],
   "source": [
    "# Visualizing the model's performance on both the train/test sets\n",
    "plt.figure(figsize=(16, 8))\n",
    "plt.plot(n_values, train_scores, c='blue', label='train')\n",
    "plt.plot(n_values, validation_scores, c='red', label='validation')\n",
    "plt.xlabel('n neighbors')\n",
    "plt.ylabel('accuracy')\n",
    "plt.title(\"KNN number of neighbors parameter tuning\")\n",
    "plt.legend()\n",
    "plt.show()"
   ]
  },
  {
   "cell_type": "code",
   "execution_count": 43,
   "id": "1d265b8d",
   "metadata": {},
   "outputs": [
    {
     "name": "stdout",
     "output_type": "stream",
     "text": [
      "The best value for K is:  21\n"
     ]
    }
   ],
   "source": [
    "# the best value for K\n",
    "index_of_max_k = np.argmax(validation_scores)\n",
    "best_k = n_values[index_of_max_k]\n",
    "print('The best value for K is: ', best_k)"
   ]
  },
  {
   "cell_type": "markdown",
   "id": "f96c7cc0",
   "metadata": {},
   "source": [
    "From the plot above, we can see that the model's maximum accuracy on the validation dataset was achieved by looking at the 21 nearest neighbours. Next we can see how a KNN model with n=21 performs on the test set:"
   ]
  },
  {
   "cell_type": "code",
   "execution_count": 44,
   "id": "57e2d76b",
   "metadata": {},
   "outputs": [
    {
     "name": "stdout",
     "output_type": "stream",
     "text": [
      "Number of neighbors: 21\n",
      "Test accuracy: 0.6878368877431451\n"
     ]
    }
   ],
   "source": [
    "# Evaluating the optimal model's performance on the original train & test set\n",
    "\n",
    "KNN_model = KNeighborsClassifier(n_neighbors = best_k)\n",
    "KNN_model.fit(X_train, y_train)\n",
    "\n",
    "print(\"Number of neighbors:\", KNN_model.n_neighbors)\n",
    "print(\"Test accuracy:\", KNN_model.score(X_test, y_test))"
   ]
  },
  {
   "cell_type": "markdown",
   "id": "6aa09a04",
   "metadata": {},
   "source": [
    "As seen above, the optimized KNN model with n=21 neighbours achieved 68.8% accuracy on the test data set. This is an improved performance compared to the baseline KNN model with n=5 neighbours which achieved 63.7% accuracy."
   ]
  },
  {
   "cell_type": "markdown",
   "id": "1c44fc2f",
   "metadata": {},
   "source": [
    "#### Q2.e What is the issue with splitting the data into train and validation sets after performing vectorization?"
   ]
  },
  {
   "cell_type": "markdown",
   "id": "2e65067e",
   "metadata": {},
   "source": [
    "One issue with splitting the data into train and validation sets after performing vectorization is that we will introduce information about the validation set to our training set. In other words, we will create a biased model because of data leakage between the train & validation sets. Due to this, our model will likley have a high performance when tested on the validation set."
   ]
  },
  {
   "cell_type": "markdown",
   "id": "21747602",
   "metadata": {},
   "source": [
    "### Decision Tree Model"
   ]
  },
  {
   "cell_type": "markdown",
   "id": "24cd7914",
   "metadata": {},
   "source": [
    "#### Q3.a Employ a Decision Tree classifier on this dataset:\n",
    "\n",
    "#### Fit a decision tree model to this data. What is the accuracy score on the test set?"
   ]
  },
  {
   "cell_type": "code",
   "execution_count": 45,
   "id": "70906fe1",
   "metadata": {},
   "outputs": [
    {
     "name": "stdout",
     "output_type": "stream",
     "text": [
      "Train accuracy: 1.0\n",
      "Test accuracy: 0.6993203655964377\n"
     ]
    }
   ],
   "source": [
    "tree_model = DecisionTreeClassifier()\n",
    "tree_model.fit(X_train, y_train)\n",
    "\n",
    "# Score the model\n",
    "print(\"Train accuracy:\", tree_model.score(X_train, y_train))\n",
    "print(\"Test accuracy:\", tree_model.score(X_test, y_test))"
   ]
  },
  {
   "cell_type": "markdown",
   "id": "ff9a27c9",
   "metadata": {},
   "source": [
    "The baseline Decision Tree model scored roughly 70% accuracy on the test dataset. As expected, the accuracy score on the test set is lower than on the train set due to the fact that Decision Tree models are prone to overfitting."
   ]
  },
  {
   "cell_type": "markdown",
   "id": "6ebc39e3",
   "metadata": {},
   "source": [
    "#### Q3.b Use the data set (or a subsample) to find an optimal value for the maximum depth of the decision tree. You will need to split your data set into train and validation."
   ]
  },
  {
   "cell_type": "markdown",
   "id": "c1832e7a",
   "metadata": {},
   "source": [
    "Using the previously split train & validation sets, we can try to find the optimal value for the maximum depth of the decision tree as shown below:"
   ]
  },
  {
   "cell_type": "code",
   "execution_count": 46,
   "id": "bd4fd2d4",
   "metadata": {},
   "outputs": [],
   "source": [
    "depth_values = list(range(1, 30, 1))\n",
    "train_scores = []\n",
    "validation_scores = []\n",
    "\n",
    "\n",
    "for depth in depth_values:  \n",
    "    tree_model = DecisionTreeClassifier(max_depth = depth)\n",
    "    tree_model.fit(X_train_set, y_train_set)\n",
    "    \n",
    "    # Scoring the models\n",
    "    train_scores.append(tree_model.score(X_train_set, y_train_set))\n",
    "    validation_scores.append(tree_model.score(X_validation_set, y_validation_set))\n",
    " "
   ]
  },
  {
   "cell_type": "code",
   "execution_count": 47,
   "id": "a50a5d68",
   "metadata": {},
   "outputs": [
    {
     "data": {
      "image/png": "[encoded data removed]",
      "text/plain": [
       "<Figure size 1152x576 with 1 Axes>"
      ]
     },
     "metadata": {
      "needs_background": "light"
     },
     "output_type": "display_data"
    }
   ],
   "source": [
    "plt.figure(figsize=(16, 8))\n",
    "plt.plot(depth_values, train_scores, c='blue', label='train')\n",
    "plt.plot(depth_values, validation_scores, c='red', label='validation')\n",
    "plt.xlabel('tree depth')\n",
    "plt.ylabel('accuracy')\n",
    "plt.title(\"Decision tree depth parameter tuning\")\n",
    "plt.legend()\n",
    "plt.show()"
   ]
  },
  {
   "cell_type": "code",
   "execution_count": 48,
   "id": "92585fd0",
   "metadata": {},
   "outputs": [
    {
     "name": "stdout",
     "output_type": "stream",
     "text": [
      "The optimal Decision Tree depth to use would be:  6\n"
     ]
    }
   ],
   "source": [
    "# the best tree depth\n",
    "index_of_max_depth = np.argmax(validation_scores)\n",
    "best_depth = depth_values[index_of_max_depth]\n",
    "print('The optimal Decision Tree depth to use would be: ', best_depth)"
   ]
  },
  {
   "cell_type": "markdown",
   "id": "936131f5",
   "metadata": {},
   "source": [
    "From the plot above, we can see that the maximum accuracy on the validation set occurs at a tree depth of 6. At this point, we also minimize the difference between the accuracies on the train and validation sets. For optimal results, a maximum depth of 6 would be recommended."
   ]
  },
  {
   "cell_type": "code",
   "execution_count": 49,
   "id": "ba614b0b",
   "metadata": {},
   "outputs": [
    {
     "name": "stdout",
     "output_type": "stream",
     "text": [
      "Optimal Decision Tree Train accuracy: 0.7666822941084545\n",
      "Optimal Decision Tree Test accuracy: 0.7520506210452308\n"
     ]
    }
   ],
   "source": [
    "tree_model = DecisionTreeClassifier(max_depth = best_depth)\n",
    "tree_model.fit(X_train, y_train)\n",
    "\n",
    "# Score the model\n",
    "print(\"Optimal Decision Tree Train accuracy:\", tree_model.score(X_train, y_train))\n",
    "print(\"Optimal Decision Tree Test accuracy:\", tree_model.score(X_test, y_test))"
   ]
  },
  {
   "cell_type": "markdown",
   "id": "0c024b65",
   "metadata": {},
   "source": [
    "After hyperparameter tuning to optimize the Decision Tree's depth, we were able to increase the accuracy score on the test set from 69.9% with using the baseline model to 75.2%."
   ]
  },
  {
   "cell_type": "markdown",
   "id": "fbaf777a",
   "metadata": {},
   "source": [
    "#### Q3.c Provide two advantages of decision trees over KNN. Provide two weaknesses of decision trees (classification or regression trees)"
   ]
  },
  {
   "cell_type": "markdown",
   "id": "8783b17d",
   "metadata": {},
   "source": [
    "Advantages of using Decision Trees over KNN include:\n",
    "- Decision Trees are more easily interpretable compared to KNN. The Decision Tree can be easily represented in an intuitive tree-like structure that breaks down the decision making process.\n",
    "- Decision trees are non-parametric models which are better at capturing non-linear decision boundaries and highlighting this within our dataset."
   ]
  },
  {
   "cell_type": "markdown",
   "id": "89068add",
   "metadata": {},
   "source": [
    "Weaknesses of Decision Trees include:\n",
    "- They are prone to overfitting especially if the max depth is not specified.\n",
    "- They are highly sensitive to variations in the training data which can cause issues when integrating them into ensemble methods or when working with noisy data."
   ]
  },
  {
   "cell_type": "markdown",
   "id": "9717dd21",
   "metadata": {},
   "source": [
    "#### Q4. What is the purpose of the validation set, i.e., how is it different than the test set?"
   ]
  },
  {
   "cell_type": "markdown",
   "id": "bfeaf846",
   "metadata": {},
   "source": [
    "The validation set is typically used for model selection and hyperparameter tuning during the model development phase. Before a final model is selected, we would use the validation set to confirm or compare performance of various models.\n",
    "\n",
    "On the other hand, the test set is used after the final model has been decided. This set of data is typically used to evaluate the model's performance on real-world/un-seen data."
   ]
  },
  {
   "cell_type": "markdown",
   "id": "9164f7fd",
   "metadata": {},
   "source": [
    "## Model Optimization"
   ]
  },
  {
   "cell_type": "markdown",
   "id": "849fafd2",
   "metadata": {},
   "source": [
    "#### Q5a. Re-run a decision tree or logistic regression on the data again:  Perform a 5-fold cross validation to optimize the hyperparameters of your model."
   ]
  },
  {
   "cell_type": "code",
   "execution_count": 50,
   "id": "fbe2edf1",
   "metadata": {},
   "outputs": [
    {
     "data": {
      "image/png": "[encoded data removed]",
      "text/plain": [
       "<Figure size 720x504 with 1 Axes>"
      ]
     },
     "metadata": {
      "needs_background": "light"
     },
     "output_type": "display_data"
    },
    {
     "name": "stdout",
     "output_type": "stream",
     "text": [
      "The best model has depth =  7\n"
     ]
    }
   ],
   "source": [
    "cross_validation_scores = []\n",
    "\n",
    "depth_values = list(range(1, 30, 1))\n",
    "\n",
    "# get the cross-val score for tree depth values between 1-30\n",
    "for depth in depth_values:\n",
    "    tree_model = DecisionTreeClassifier(max_depth = depth)\n",
    "    cv_score = np.mean(cross_val_score(tree_model, X_train, y_train, cv = 5))\n",
    "    cross_validation_scores.append(cv_score)\n",
    "\n",
    "plt.figure(figsize=(10, 7))\n",
    "plt.plot(depth_values, cross_validation_scores,label=\"Cross Validation Score\",marker='.')\n",
    "plt.legend()\n",
    "plt.xlabel('Tree Depth Parameter')\n",
    "plt.ylabel('Cross Validation Scores')\n",
    "plt.grid()\n",
    "plt.show()\n",
    "\n",
    "# Use the index for the max cross-val score to get the optimal depth\n",
    "index_of_max_depth = np.argmax(cross_validation_scores)\n",
    "print(\"The best model has depth = \", depth_values[index_of_max_depth])"
   ]
  },
  {
   "cell_type": "markdown",
   "id": "086bcff8",
   "metadata": {},
   "source": [
    "As seen above, the maximum cross validation score was achieved using a tree depth value of 7. Using a cross-validation with 5 folds, the optimal tree depth would be 7. Next, we can fit a decision tree with this parameter & evaluate it's performance:"
   ]
  },
  {
   "cell_type": "code",
   "execution_count": 51,
   "id": "edd9b2c8",
   "metadata": {},
   "outputs": [
    {
     "name": "stdout",
     "output_type": "stream",
     "text": [
      "Optimal Decision Tree Train accuracy: 0.776840131270511\n",
      "Optimal Decision Tree Test accuracy: 0.7558003280993673\n"
     ]
    }
   ],
   "source": [
    "tree_model = DecisionTreeClassifier(max_depth = depth_values[index_of_max_depth])\n",
    "tree_model.fit(X_train, y_train)\n",
    "\n",
    "# Score the model\n",
    "print(\"Optimal Decision Tree Train accuracy:\", tree_model.score(X_train, y_train))\n",
    "print(\"Optimal Decision Tree Test accuracy:\", tree_model.score(X_test, y_test))"
   ]
  },
  {
   "cell_type": "markdown",
   "id": "b04bf99c",
   "metadata": {},
   "source": [
    "By using the 5-fold cross validation to optimize the Decision Tree's depth, we were able to increase the accuracy score on the test set from 69.9% with using the baseline model to 75.6%. This makes sense given the fact that we technically \"increased\" the amount of data used to train the model by doing the 5-fold cross validation step."
   ]
  },
  {
   "cell_type": "markdown",
   "id": "dca6609a",
   "metadata": {},
   "source": [
    "#### Q5b. What does your confusion matrix look like for your best model on the test set?"
   ]
  },
  {
   "cell_type": "code",
   "execution_count": 52,
   "id": "c273bc1a",
   "metadata": {},
   "outputs": [
    {
     "data": {
      "text/html": [
       "<div>\n",
       "<style scoped>\n",
       "    .dataframe tbody tr th:only-of-type {\n",
       "        vertical-align: middle;\n",
       "    }\n",
       "\n",
       "    .dataframe tbody tr th {\n",
       "        vertical-align: top;\n",
       "    }\n",
       "\n",
       "    .dataframe thead th {\n",
       "        text-align: right;\n",
       "    }\n",
       "</style>\n",
       "<table border=\"1\" class=\"dataframe\">\n",
       "  <thead>\n",
       "    <tr style=\"text-align: right;\">\n",
       "      <th></th>\n",
       "      <th>Predicted Class 0</th>\n",
       "      <th>Predicted Class 1</th>\n",
       "    </tr>\n",
       "  </thead>\n",
       "  <tbody>\n",
       "    <tr>\n",
       "      <th>True Class 0</th>\n",
       "      <td>1286</td>\n",
       "      <td>523</td>\n",
       "    </tr>\n",
       "    <tr>\n",
       "      <th>True Class 1</th>\n",
       "      <td>519</td>\n",
       "      <td>1939</td>\n",
       "    </tr>\n",
       "  </tbody>\n",
       "</table>\n",
       "</div>"
      ],
      "text/plain": [
       "              Predicted Class 0  Predicted Class 1\n",
       "True Class 0               1286                523\n",
       "True Class 1                519               1939"
      ]
     },
     "metadata": {},
     "output_type": "display_data"
    },
    {
     "name": "stdout",
     "output_type": "stream",
     "text": [
      "Normalized Confusion Matrix\n"
     ]
    },
    {
     "data": {
      "text/html": [
       "<div>\n",
       "<style scoped>\n",
       "    .dataframe tbody tr th:only-of-type {\n",
       "        vertical-align: middle;\n",
       "    }\n",
       "\n",
       "    .dataframe tbody tr th {\n",
       "        vertical-align: top;\n",
       "    }\n",
       "\n",
       "    .dataframe thead th {\n",
       "        text-align: right;\n",
       "    }\n",
       "</style>\n",
       "<table border=\"1\" class=\"dataframe\">\n",
       "  <thead>\n",
       "    <tr style=\"text-align: right;\">\n",
       "      <th></th>\n",
       "      <th>Predicted Class 0</th>\n",
       "      <th>Predicted Class 1</th>\n",
       "    </tr>\n",
       "  </thead>\n",
       "  <tbody>\n",
       "    <tr>\n",
       "      <th>True Class 0</th>\n",
       "      <td>0.301</td>\n",
       "      <td>0.123</td>\n",
       "    </tr>\n",
       "    <tr>\n",
       "      <th>True Class 1</th>\n",
       "      <td>0.122</td>\n",
       "      <td>0.454</td>\n",
       "    </tr>\n",
       "  </tbody>\n",
       "</table>\n",
       "</div>"
      ],
      "text/plain": [
       "              Predicted Class 0  Predicted Class 1\n",
       "True Class 0              0.301              0.123\n",
       "True Class 1              0.122              0.454"
      ]
     },
     "metadata": {},
     "output_type": "display_data"
    }
   ],
   "source": [
    "# Getting the class predictions using the optimized Decision Tree model\n",
    "y_pred = tree_model.predict(X_test)\n",
    "\n",
    "\n",
    "# Creating the confusion matrix \n",
    "cf_matrix = confusion_matrix(y_test, y_pred)\n",
    "cf_df = pd.DataFrame(\n",
    "    cf_matrix, \n",
    "    columns=[\"Predicted Class 0\", \"Predicted Class 1\"],\n",
    "    index=[\"True Class 0\", \"True Class 1\"]\n",
    ")\n",
    "\n",
    "display(cf_df)\n",
    "\n",
    "# Creating the confusion matrix \n",
    "cf_matrix = confusion_matrix(y_test, y_pred)\n",
    "cf_matrix = np.round(cf_matrix/len(y_test), 3)\n",
    "cf_df = pd.DataFrame(\n",
    "    cf_matrix, \n",
    "    columns=[\"Predicted Class 0\", \"Predicted Class 1\"],\n",
    "    index=[\"True Class 0\", \"True Class 1\"]\n",
    ")\n",
    "\n",
    "print(\"Normalized Confusion Matrix\")\n",
    "display(cf_df)"
   ]
  },
  {
   "cell_type": "markdown",
   "id": "23da3c23",
   "metadata": {},
   "source": [
    "Out of 4,267 rows in the test dataset, the optimized decision tree model is accurately classifying 75.6% of the reviews while incorrectly misclassifying 24.4% as either good or bad.\n",
    "\n",
    "There is almost an equal amount of False Positive & False Negatives detected by the model. 519 truely positive reviews were flagged as negative while 523 truely negative reviews were marked as positive."
   ]
  },
  {
   "cell_type": "markdown",
   "id": "03ef32bc",
   "metadata": {},
   "source": [
    "#### Q6a. Create one new feature of your choice: Explain your new feature and why you consider it will improve accuracy."
   ]
  },
  {
   "cell_type": "code",
   "execution_count": 53,
   "id": "fb496d8c",
   "metadata": {},
   "outputs": [
    {
     "name": "stdout",
     "output_type": "stream",
     "text": [
      "Index(['Additional_Number_of_Scoring', 'Average_Score',\n",
      "       'Review_Total_Negative_Word_Counts', 'Total_Number_of_Reviews',\n",
      "       'Review_Total_Positive_Word_Counts',\n",
      "       'Total_Number_of_Reviews_Reviewer_Has_Given', 'days_since_review',\n",
      "       'lat', 'lng', 'weekday_of_review', 'month_of_review', 'year_of_review',\n",
      "       'bed_single', 'bed_double', 'bed_queen', 'bed_king', 'trip_leisure',\n",
      "       'trip_biz', 'group_solo', 'group_couple', 'group_family',\n",
      "       'Hotel_Name_11 Cadogan Gardens', 'Hotel_Name_41',\n",
      "       'Hotel_Name_88 Studios', 'Hotel_Name_Ace Hotel London Shoreditch',\n",
      "       'Hotel_Name_Adria Boutique Hotel', 'Hotel_Name_Aloft London Excel',\n",
      "       'Hotel_Name_Amba Hotel Charing Cross',\n",
      "       'Hotel_Name_Amba Hotel Marble Arch',\n",
      "       'Hotel_Name_Ambassadors Bloomsbury'],\n",
      "      dtype='object')\n"
     ]
    }
   ],
   "source": [
    "column_names = train_data.columns  # Review some of the column names of the dataset\n",
    "print(column_names[:30])"
   ]
  },
  {
   "cell_type": "code",
   "execution_count": 54,
   "id": "efeee299",
   "metadata": {},
   "outputs": [
    {
     "data": {
      "text/plain": [
       "array([ 1, 10,  3,  2, 11,  9,  8,  7, 12,  5,  4,  6])"
      ]
     },
     "execution_count": 54,
     "metadata": {},
     "output_type": "execute_result"
    }
   ],
   "source": [
    "train_data['month_of_review'].unique()"
   ]
  },
  {
   "cell_type": "markdown",
   "id": "fcc3a4ad",
   "metadata": {},
   "source": [
    "We can further classify the month_of_review column based on the season the hotel stay occured in within the year i.e. winter, summer, fall or spring. Adding Season of the year as a new feature in the dataset may provide additional insight into how seasonality affect's the hotel's services and/or reviewer's experiences. For instance, the model may be able to detect if reviewer's are less content with the service they received during peak seasons like Summer when the hospitality & tourism industry are busiest. During these periods, the staff are likely to be more overwhelmed and unable to provide the best customer service. On the other hand, the reverse may be the case during low-volume seasons when the staff are less overwhelmed. The insights obtained from the effect of seasonality on the customer's review may improve the model's accuracy. We will confirm this below:"
   ]
  },
  {
   "cell_type": "code",
   "execution_count": 55,
   "id": "a43d7289",
   "metadata": {},
   "outputs": [],
   "source": [
    "# Adding a new column to the train & test data\n",
    "train_data['season'] = train_data['month_of_review'].apply(lambda x: 'winter' if x in [12, 1, 2] else ('spring' if x in [3, 4] else ('summer' if x in [5, 6, 7, 8] else 'fall')))\n",
    "test_data['season'] = train_data['month_of_review'].apply(lambda x: 'winter' if x in [12, 1, 2] else ('spring' if x in [3, 4] else ('summer' if x in [5, 6, 7, 8] else 'fall')))"
   ]
  },
  {
   "cell_type": "code",
   "execution_count": 56,
   "id": "624f4f1e",
   "metadata": {},
   "outputs": [
    {
     "data": {
      "text/html": [
       "<div>\n",
       "<style scoped>\n",
       "    .dataframe tbody tr th:only-of-type {\n",
       "        vertical-align: middle;\n",
       "    }\n",
       "\n",
       "    .dataframe tbody tr th {\n",
       "        vertical-align: top;\n",
       "    }\n",
       "\n",
       "    .dataframe thead th {\n",
       "        text-align: right;\n",
       "    }\n",
       "</style>\n",
       "<table border=\"1\" class=\"dataframe\">\n",
       "  <thead>\n",
       "    <tr style=\"text-align: right;\">\n",
       "      <th></th>\n",
       "      <th>month_of_review</th>\n",
       "      <th>season</th>\n",
       "    </tr>\n",
       "  </thead>\n",
       "  <tbody>\n",
       "    <tr>\n",
       "      <th>0</th>\n",
       "      <td>1</td>\n",
       "      <td>winter</td>\n",
       "    </tr>\n",
       "    <tr>\n",
       "      <th>1</th>\n",
       "      <td>10</td>\n",
       "      <td>fall</td>\n",
       "    </tr>\n",
       "    <tr>\n",
       "      <th>2</th>\n",
       "      <td>3</td>\n",
       "      <td>spring</td>\n",
       "    </tr>\n",
       "    <tr>\n",
       "      <th>3</th>\n",
       "      <td>2</td>\n",
       "      <td>winter</td>\n",
       "    </tr>\n",
       "    <tr>\n",
       "      <th>4</th>\n",
       "      <td>11</td>\n",
       "      <td>fall</td>\n",
       "    </tr>\n",
       "    <tr>\n",
       "      <th>5</th>\n",
       "      <td>9</td>\n",
       "      <td>fall</td>\n",
       "    </tr>\n",
       "    <tr>\n",
       "      <th>6</th>\n",
       "      <td>8</td>\n",
       "      <td>summer</td>\n",
       "    </tr>\n",
       "    <tr>\n",
       "      <th>7</th>\n",
       "      <td>7</td>\n",
       "      <td>summer</td>\n",
       "    </tr>\n",
       "    <tr>\n",
       "      <th>8</th>\n",
       "      <td>11</td>\n",
       "      <td>fall</td>\n",
       "    </tr>\n",
       "    <tr>\n",
       "      <th>9</th>\n",
       "      <td>12</td>\n",
       "      <td>winter</td>\n",
       "    </tr>\n",
       "  </tbody>\n",
       "</table>\n",
       "</div>"
      ],
      "text/plain": [
       "   month_of_review  season\n",
       "0                1  winter\n",
       "1               10    fall\n",
       "2                3  spring\n",
       "3                2  winter\n",
       "4               11    fall\n",
       "5                9    fall\n",
       "6                8  summer\n",
       "7                7  summer\n",
       "8               11    fall\n",
       "9               12  winter"
      ]
     },
     "execution_count": 56,
     "metadata": {},
     "output_type": "execute_result"
    }
   ],
   "source": [
    "train_data[['month_of_review', 'season']].head(10)"
   ]
  },
  {
   "cell_type": "code",
   "execution_count": 57,
   "id": "7751cde4",
   "metadata": {},
   "outputs": [
    {
     "data": {
      "text/html": [
       "<div>\n",
       "<style scoped>\n",
       "    .dataframe tbody tr th:only-of-type {\n",
       "        vertical-align: middle;\n",
       "    }\n",
       "\n",
       "    .dataframe tbody tr th {\n",
       "        vertical-align: top;\n",
       "    }\n",
       "\n",
       "    .dataframe thead th {\n",
       "        text-align: right;\n",
       "    }\n",
       "</style>\n",
       "<table border=\"1\" class=\"dataframe\">\n",
       "  <thead>\n",
       "    <tr style=\"text-align: right;\">\n",
       "      <th></th>\n",
       "      <th>Additional_Number_of_Scoring</th>\n",
       "      <th>Average_Score</th>\n",
       "      <th>Review_Total_Negative_Word_Counts</th>\n",
       "      <th>Total_Number_of_Reviews</th>\n",
       "      <th>Review_Total_Positive_Word_Counts</th>\n",
       "      <th>Total_Number_of_Reviews_Reviewer_Has_Given</th>\n",
       "      <th>days_since_review</th>\n",
       "      <th>lat</th>\n",
       "      <th>lng</th>\n",
       "      <th>weekday_of_review</th>\n",
       "      <th>...</th>\n",
       "      <th>n_write</th>\n",
       "      <th>n_wrong</th>\n",
       "      <th>n_year</th>\n",
       "      <th>n_yes</th>\n",
       "      <th>n_yet</th>\n",
       "      <th>n_young</th>\n",
       "      <th>rating</th>\n",
       "      <th>season_spring</th>\n",
       "      <th>season_summer</th>\n",
       "      <th>season_winter</th>\n",
       "    </tr>\n",
       "  </thead>\n",
       "  <tbody>\n",
       "    <tr>\n",
       "      <th>0</th>\n",
       "      <td>620</td>\n",
       "      <td>9.0</td>\n",
       "      <td>0</td>\n",
       "      <td>1974</td>\n",
       "      <td>164</td>\n",
       "      <td>1</td>\n",
       "      <td>562</td>\n",
       "      <td>51.506558</td>\n",
       "      <td>-0.004514</td>\n",
       "      <td>1</td>\n",
       "      <td>...</td>\n",
       "      <td>0</td>\n",
       "      <td>0</td>\n",
       "      <td>0</td>\n",
       "      <td>0</td>\n",
       "      <td>0</td>\n",
       "      <td>0</td>\n",
       "      <td>1</td>\n",
       "      <td>0</td>\n",
       "      <td>0</td>\n",
       "      <td>1</td>\n",
       "    </tr>\n",
       "    <tr>\n",
       "      <th>1</th>\n",
       "      <td>1258</td>\n",
       "      <td>9.4</td>\n",
       "      <td>6</td>\n",
       "      <td>4204</td>\n",
       "      <td>4</td>\n",
       "      <td>5</td>\n",
       "      <td>276</td>\n",
       "      <td>51.502435</td>\n",
       "      <td>-0.000250</td>\n",
       "      <td>0</td>\n",
       "      <td>...</td>\n",
       "      <td>0</td>\n",
       "      <td>0</td>\n",
       "      <td>0</td>\n",
       "      <td>0</td>\n",
       "      <td>0</td>\n",
       "      <td>0</td>\n",
       "      <td>1</td>\n",
       "      <td>0</td>\n",
       "      <td>0</td>\n",
       "      <td>0</td>\n",
       "    </tr>\n",
       "    <tr>\n",
       "      <th>2</th>\n",
       "      <td>995</td>\n",
       "      <td>8.1</td>\n",
       "      <td>2</td>\n",
       "      <td>3826</td>\n",
       "      <td>38</td>\n",
       "      <td>1</td>\n",
       "      <td>129</td>\n",
       "      <td>51.504348</td>\n",
       "      <td>-0.033444</td>\n",
       "      <td>0</td>\n",
       "      <td>...</td>\n",
       "      <td>0</td>\n",
       "      <td>0</td>\n",
       "      <td>0</td>\n",
       "      <td>0</td>\n",
       "      <td>0</td>\n",
       "      <td>0</td>\n",
       "      <td>1</td>\n",
       "      <td>1</td>\n",
       "      <td>0</td>\n",
       "      <td>0</td>\n",
       "    </tr>\n",
       "    <tr>\n",
       "      <th>3</th>\n",
       "      <td>853</td>\n",
       "      <td>8.4</td>\n",
       "      <td>7</td>\n",
       "      <td>2726</td>\n",
       "      <td>10</td>\n",
       "      <td>10</td>\n",
       "      <td>164</td>\n",
       "      <td>51.507377</td>\n",
       "      <td>0.038657</td>\n",
       "      <td>0</td>\n",
       "      <td>...</td>\n",
       "      <td>0</td>\n",
       "      <td>0</td>\n",
       "      <td>0</td>\n",
       "      <td>0</td>\n",
       "      <td>0</td>\n",
       "      <td>0</td>\n",
       "      <td>0</td>\n",
       "      <td>0</td>\n",
       "      <td>0</td>\n",
       "      <td>1</td>\n",
       "    </tr>\n",
       "    <tr>\n",
       "      <th>4</th>\n",
       "      <td>1243</td>\n",
       "      <td>8.1</td>\n",
       "      <td>11</td>\n",
       "      <td>6608</td>\n",
       "      <td>8</td>\n",
       "      <td>69</td>\n",
       "      <td>639</td>\n",
       "      <td>51.513556</td>\n",
       "      <td>-0.180002</td>\n",
       "      <td>1</td>\n",
       "      <td>...</td>\n",
       "      <td>0</td>\n",
       "      <td>0</td>\n",
       "      <td>0</td>\n",
       "      <td>0</td>\n",
       "      <td>0</td>\n",
       "      <td>0</td>\n",
       "      <td>0</td>\n",
       "      <td>0</td>\n",
       "      <td>0</td>\n",
       "      <td>0</td>\n",
       "    </tr>\n",
       "  </tbody>\n",
       "</table>\n",
       "<p>5 rows × 2747 columns</p>\n",
       "</div>"
      ],
      "text/plain": [
       "   Additional_Number_of_Scoring  Average_Score  \\\n",
       "0                           620            9.0   \n",
       "1                          1258            9.4   \n",
       "2                           995            8.1   \n",
       "3                           853            8.4   \n",
       "4                          1243            8.1   \n",
       "\n",
       "   Review_Total_Negative_Word_Counts  Total_Number_of_Reviews  \\\n",
       "0                                  0                     1974   \n",
       "1                                  6                     4204   \n",
       "2                                  2                     3826   \n",
       "3                                  7                     2726   \n",
       "4                                 11                     6608   \n",
       "\n",
       "   Review_Total_Positive_Word_Counts  \\\n",
       "0                                164   \n",
       "1                                  4   \n",
       "2                                 38   \n",
       "3                                 10   \n",
       "4                                  8   \n",
       "\n",
       "   Total_Number_of_Reviews_Reviewer_Has_Given  days_since_review        lat  \\\n",
       "0                                           1                562  51.506558   \n",
       "1                                           5                276  51.502435   \n",
       "2                                           1                129  51.504348   \n",
       "3                                          10                164  51.507377   \n",
       "4                                          69                639  51.513556   \n",
       "\n",
       "        lng  weekday_of_review  ...  n_write  n_wrong  n_year  n_yes  n_yet  \\\n",
       "0 -0.004514                  1  ...        0        0       0      0      0   \n",
       "1 -0.000250                  0  ...        0        0       0      0      0   \n",
       "2 -0.033444                  0  ...        0        0       0      0      0   \n",
       "3  0.038657                  0  ...        0        0       0      0      0   \n",
       "4 -0.180002                  1  ...        0        0       0      0      0   \n",
       "\n",
       "   n_young  rating  season_spring  season_summer  season_winter  \n",
       "0        0       1              0              0              1  \n",
       "1        0       1              0              0              0  \n",
       "2        0       1              1              0              0  \n",
       "3        0       0              0              0              1  \n",
       "4        0       0              0              0              0  \n",
       "\n",
       "[5 rows x 2747 columns]"
      ]
     },
     "execution_count": 57,
     "metadata": {},
     "output_type": "execute_result"
    }
   ],
   "source": [
    "# create dummy variables of the new column\n",
    "train_data = pd.get_dummies(train_data, columns=['season'], drop_first=True)\n",
    "test_data = pd.get_dummies(test_data, columns=['season'], drop_first=True)\n",
    "train_data.head()"
   ]
  },
  {
   "cell_type": "code",
   "execution_count": 58,
   "id": "c67ec3dd",
   "metadata": {},
   "outputs": [],
   "source": [
    "# Re-define our X and y\n",
    "y_train = train_data['rating']\n",
    "y_test = test_data['rating']\n",
    "\n",
    "X_train = train_data.drop(columns = 'rating')\n",
    "X_test = test_data.drop(columns = 'rating')"
   ]
  },
  {
   "cell_type": "code",
   "execution_count": 59,
   "id": "c739eb3d",
   "metadata": {},
   "outputs": [],
   "source": [
    "# Re-scaling the X_train and X_test dat\n",
    "scaler = StandardScaler()\n",
    "scaler.fit(X_train)\n",
    "X_train = scaler.transform(X_train)\n",
    "X_test = scaler.transform(X_test)"
   ]
  },
  {
   "cell_type": "code",
   "execution_count": 60,
   "id": "742ee412",
   "metadata": {},
   "outputs": [
    {
     "data": {
      "text/plain": [
       "(12798, 2746)"
      ]
     },
     "execution_count": 60,
     "metadata": {},
     "output_type": "execute_result"
    }
   ],
   "source": [
    "X_train.shape"
   ]
  },
  {
   "cell_type": "markdown",
   "id": "0445b636",
   "metadata": {},
   "source": [
    "#### Q6b. Run the model from question 5 again. You will have to re-optimize your hyperparameters. Has the accuracy score of your best model improved on the test set after adding the new feature you created?"
   ]
  },
  {
   "cell_type": "code",
   "execution_count": 61,
   "id": "ef21ca80",
   "metadata": {},
   "outputs": [
    {
     "data": {
      "image/png": "[encoded data removed]",
      "text/plain": [
       "<Figure size 720x504 with 1 Axes>"
      ]
     },
     "metadata": {
      "needs_background": "light"
     },
     "output_type": "display_data"
    },
    {
     "name": "stdout",
     "output_type": "stream",
     "text": [
      "The best model has depth =  7\n"
     ]
    }
   ],
   "source": [
    "cross_validation_scores = []\n",
    "\n",
    "depth_values = list(range(1, 20, 1))\n",
    "\n",
    "for depth in depth_values:\n",
    "    tree_model = DecisionTreeClassifier(max_depth = depth)\n",
    "    cv_score = np.mean(cross_val_score(tree_model, X_train, y_train, cv = 5))\n",
    "    cross_validation_scores.append(cv_score)\n",
    "\n",
    "plt.figure(figsize=(10, 7))\n",
    "plt.plot(depth_values, cross_validation_scores,label=\"Cross Validation Score\",marker='.')\n",
    "plt.legend()\n",
    "plt.xlabel('Tree Depth Parameter')\n",
    "plt.ylabel('Cross Validation Scores')\n",
    "plt.grid()\n",
    "plt.show()\n",
    "\n",
    "index_of_max_depth = np.argmax(cross_validation_scores)\n",
    "print(\"The best model has depth = \", depth_values[index_of_max_depth])"
   ]
  },
  {
   "cell_type": "markdown",
   "id": "2730b0aa",
   "metadata": {},
   "source": [
    "After adding the Seasonality as a new feature to the dataset and re-performing the 5-fold cross validation on the Decision Tree model, the new model's optimal depth that achieved the maximum accuracy on the validation set is 7."
   ]
  },
  {
   "cell_type": "code",
   "execution_count": 62,
   "id": "39ad2510",
   "metadata": {},
   "outputs": [
    {
     "name": "stdout",
     "output_type": "stream",
     "text": [
      "Optimal Decision Tree Train accuracy: 0.776840131270511\n",
      "Optimal Decision Tree Test accuracy: 0.7555659714084837\n"
     ]
    }
   ],
   "source": [
    "tree_model = DecisionTreeClassifier(max_depth = depth_values[index_of_max_depth])\n",
    "tree_model.fit(X_train, y_train)\n",
    "\n",
    "# Score the model\n",
    "print(\"Optimal Decision Tree Train accuracy:\", tree_model.score(X_train, y_train))\n",
    "print(\"Optimal Decision Tree Test accuracy:\", tree_model.score(X_test, y_test))"
   ]
  },
  {
   "cell_type": "markdown",
   "id": "430588e3",
   "metadata": {},
   "source": [
    "As seen from the model's score above, the Decision Tree model with Seasonality added as a new feature did not improve the model's accuracy from 75.6%. It seems adding the Seasons as a new feature did not add further insight into predicting the reviews sentiment."
   ]
  },
  {
   "cell_type": "code",
   "execution_count": 63,
   "id": "2c39e618",
   "metadata": {},
   "outputs": [
    {
     "data": {
      "text/html": [
       "<div>\n",
       "<style scoped>\n",
       "    .dataframe tbody tr th:only-of-type {\n",
       "        vertical-align: middle;\n",
       "    }\n",
       "\n",
       "    .dataframe tbody tr th {\n",
       "        vertical-align: top;\n",
       "    }\n",
       "\n",
       "    .dataframe thead th {\n",
       "        text-align: right;\n",
       "    }\n",
       "</style>\n",
       "<table border=\"1\" class=\"dataframe\">\n",
       "  <thead>\n",
       "    <tr style=\"text-align: right;\">\n",
       "      <th></th>\n",
       "      <th>Predicted Class 0</th>\n",
       "      <th>Predicted Class 1</th>\n",
       "    </tr>\n",
       "  </thead>\n",
       "  <tbody>\n",
       "    <tr>\n",
       "      <th>True Class 0</th>\n",
       "      <td>1284</td>\n",
       "      <td>525</td>\n",
       "    </tr>\n",
       "    <tr>\n",
       "      <th>True Class 1</th>\n",
       "      <td>518</td>\n",
       "      <td>1940</td>\n",
       "    </tr>\n",
       "  </tbody>\n",
       "</table>\n",
       "</div>"
      ],
      "text/plain": [
       "              Predicted Class 0  Predicted Class 1\n",
       "True Class 0               1284                525\n",
       "True Class 1                518               1940"
      ]
     },
     "metadata": {},
     "output_type": "display_data"
    },
    {
     "name": "stdout",
     "output_type": "stream",
     "text": [
      "Normalized Confusion Matrix\n"
     ]
    },
    {
     "data": {
      "text/html": [
       "<div>\n",
       "<style scoped>\n",
       "    .dataframe tbody tr th:only-of-type {\n",
       "        vertical-align: middle;\n",
       "    }\n",
       "\n",
       "    .dataframe tbody tr th {\n",
       "        vertical-align: top;\n",
       "    }\n",
       "\n",
       "    .dataframe thead th {\n",
       "        text-align: right;\n",
       "    }\n",
       "</style>\n",
       "<table border=\"1\" class=\"dataframe\">\n",
       "  <thead>\n",
       "    <tr style=\"text-align: right;\">\n",
       "      <th></th>\n",
       "      <th>Predicted Class 0</th>\n",
       "      <th>Predicted Class 1</th>\n",
       "    </tr>\n",
       "  </thead>\n",
       "  <tbody>\n",
       "    <tr>\n",
       "      <th>True Class 0</th>\n",
       "      <td>0.301</td>\n",
       "      <td>0.123</td>\n",
       "    </tr>\n",
       "    <tr>\n",
       "      <th>True Class 1</th>\n",
       "      <td>0.121</td>\n",
       "      <td>0.455</td>\n",
       "    </tr>\n",
       "  </tbody>\n",
       "</table>\n",
       "</div>"
      ],
      "text/plain": [
       "              Predicted Class 0  Predicted Class 1\n",
       "True Class 0              0.301              0.123\n",
       "True Class 1              0.121              0.455"
      ]
     },
     "metadata": {},
     "output_type": "display_data"
    }
   ],
   "source": [
    "# Getting the class predictions using the optimized Decision Tree model\n",
    "y_pred = tree_model.predict(X_test)\n",
    "\n",
    "# Creating the confusion matrix \n",
    "cf_matrix = confusion_matrix(y_test, y_pred)\n",
    "cf_df = pd.DataFrame(\n",
    "    cf_matrix, \n",
    "    columns=[\"Predicted Class 0\", \"Predicted Class 1\"],\n",
    "    index=[\"True Class 0\", \"True Class 1\"]\n",
    ")\n",
    "\n",
    "display(cf_df)\n",
    "\n",
    "# Creating the confusion matrix \n",
    "cf_matrix = confusion_matrix(y_test, y_pred)\n",
    "cf_matrix = np.round(cf_matrix/len(y_test), 3)\n",
    "cf_df = pd.DataFrame(\n",
    "    cf_matrix, \n",
    "    columns=[\"Predicted Class 0\", \"Predicted Class 1\"],\n",
    "    index=[\"True Class 0\", \"True Class 1\"]\n",
    ")\n",
    "\n",
    "print(\"Normalized Confusion Matrix\")\n",
    "display(cf_df)"
   ]
  },
  {
   "cell_type": "markdown",
   "id": "be4b35fb",
   "metadata": {},
   "source": [
    "## Conclusion"
   ]
  },
  {
   "cell_type": "markdown",
   "id": "c4ac3290",
   "metadata": {},
   "source": [
    "In this deliverable, I developed several machine learning models aiming to correctly label the sentiment of the hotel reviews data. This included creating a baseline Logistic Regression model, KNN model and a Decision Tree model, in addition to hyperparameter tuning. The results obtained can be summarized below:\n",
    "\n",
    "- Baseline Logistic Regression model accuracy - 73.3%\n",
    "- Baseline KNN model (n_neighbors = 5) accuracy - 63.7%\n",
    "- Optimal KNN model (n_neighbors = 21) accuracy - 68.8%\n",
    "- Baseline Decision Tree accuracy - 69.9%\n",
    "- Optimal Decision Tree (max_depth = 7) accuracy - 75.6%\n",
    "\n",
    "Overall, the best performance of 75.6% accuracy was obtained using the optimized Decision Tree with max_depth parameter of 7."
   ]
  }
 ],
 "metadata": {
  "kernelspec": {
   "display_name": "Python 3 (ipykernel)",
   "language": "python",
   "name": "python3"
  },
  "language_info": {
   "codemirror_mode": {
    "name": "ipython",
    "version": 3
   },
   "file_extension": ".py",
   "mimetype": "text/x-python",
   "name": "python",
   "nbconvert_exporter": "python",
   "pygments_lexer": "ipython3",
   "version": "3.11.5"
  },
  "toc": {
   "base_numbering": 1,
   "nav_menu": {},
   "number_sections": true,
   "sideBar": true,
   "skip_h1_title": false,
   "title_cell": "Table of Contents",
   "title_sidebar": "Contents",
   "toc_cell": false,
   "toc_position": {},
   "toc_section_display": true,
   "toc_window_display": false
  }
 },
 "nbformat": 4,
 "nbformat_minor": 5
}
